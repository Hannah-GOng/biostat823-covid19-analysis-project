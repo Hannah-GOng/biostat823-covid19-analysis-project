{
 "cells": [
  {
   "cell_type": "code",
   "execution_count": 32,
   "metadata": {},
   "outputs": [
    {
     "name": "stderr",
     "output_type": "stream",
     "text": [
      "C:\\Users\\lucylin\\Anaconda3\\lib\\site-packages\\ipykernel_launcher.py:13: UserWarning:\n",
      "\n",
      "\n",
      "The dash_table package is deprecated. Please replace\n",
      "`import dash_table` with `from dash import dash_table`\n",
      "\n",
      "Also, if you're using any of the table format helpers (e.g. Group), replace \n",
      "`from dash_table.Format import Group` with \n",
      "`from dash.dash_table.Format import Group`\n",
      "\n"
     ]
    }
   ],
   "source": [
    "import dash\n",
    "from dash.dependencies import Input, Output\n",
    "from dash import dcc\n",
    "from dash import html\n",
    "from pandas_datareader import data as web\n",
    "#from datetime import datetime as dt\n",
    "import plotly.graph_objs as go\n",
    "#import dash_core_components as dcc\n",
    "#import dash_html_components as html\n",
    "import pandas as pd\n",
    "import json\n",
    "import plotly.express as px\n",
    "import dash_table as dt"
   ]
  },
  {
   "cell_type": "code",
   "execution_count": 67,
   "metadata": {},
   "outputs": [],
   "source": [
    "import plotly.figure_factory as ff"
   ]
  },
  {
   "cell_type": "code",
   "execution_count": 48,
   "metadata": {},
   "outputs": [],
   "source": [
    "imputed_data = pd.read_csv('C:\\lucy\\Duke\\Biostats823\\Final Project\\imputed_results.csv')"
   ]
  },
  {
   "cell_type": "code",
   "execution_count": 49,
   "metadata": {},
   "outputs": [],
   "source": [
    "imputed_sampling_data = pd.read_csv('C:\\lucy\\Duke\\Biostats823\\Final Project\\imputed_sampling_results.csv')"
   ]
  },
  {
   "cell_type": "code",
   "execution_count": 52,
   "metadata": {},
   "outputs": [],
   "source": [
    "imputed_data = imputed_data.drop([imputed_data.columns[0], 'Recall','Prec.','Kappa','MCC','TT (Sec)'], axis = 1)"
   ]
  },
  {
   "cell_type": "code",
   "execution_count": 53,
   "metadata": {},
   "outputs": [],
   "source": [
    "imputed_sampling_data = imputed_sampling_data.drop([imputed_sampling_data.columns[0], 'Recall','Prec.','Kappa','MCC','TT (Sec)'], axis = 1)"
   ]
  },
  {
   "cell_type": "code",
   "execution_count": 54,
   "metadata": {},
   "outputs": [],
   "source": [
    "imputed_data['Method'] = 'Imputed'\n",
    "imputed_sampling_data['Method'] = 'Imputed_Imbalanced'"
   ]
  },
  {
   "cell_type": "code",
   "execution_count": 55,
   "metadata": {},
   "outputs": [],
   "source": [
    "data_all = pd.concat([imputed_data,imputed_sampling_data])"
   ]
  },
  {
   "cell_type": "code",
   "execution_count": 57,
   "metadata": {},
   "outputs": [],
   "source": [
    "data_long1 = pd.melt(data_all, id_vars =['Model','Method'], value_vars = ['Accuracy','AUC','F1'])"
   ]
  },
  {
   "cell_type": "code",
   "execution_count": 58,
   "metadata": {},
   "outputs": [
    {
     "data": {
      "text/html": [
       "<div>\n",
       "<style scoped>\n",
       "    .dataframe tbody tr th:only-of-type {\n",
       "        vertical-align: middle;\n",
       "    }\n",
       "\n",
       "    .dataframe tbody tr th {\n",
       "        vertical-align: top;\n",
       "    }\n",
       "\n",
       "    .dataframe thead th {\n",
       "        text-align: right;\n",
       "    }\n",
       "</style>\n",
       "<table border=\"1\" class=\"dataframe\">\n",
       "  <thead>\n",
       "    <tr style=\"text-align: right;\">\n",
       "      <th></th>\n",
       "      <th>Model</th>\n",
       "      <th>Method</th>\n",
       "      <th>variable</th>\n",
       "      <th>value</th>\n",
       "    </tr>\n",
       "  </thead>\n",
       "  <tbody>\n",
       "    <tr>\n",
       "      <th>0</th>\n",
       "      <td>Logistic Regression</td>\n",
       "      <td>Imputed</td>\n",
       "      <td>Accuracy</td>\n",
       "      <td>0.9390</td>\n",
       "    </tr>\n",
       "    <tr>\n",
       "      <th>1</th>\n",
       "      <td>Light Gradient Boosting Machine</td>\n",
       "      <td>Imputed</td>\n",
       "      <td>Accuracy</td>\n",
       "      <td>0.9295</td>\n",
       "    </tr>\n",
       "    <tr>\n",
       "      <th>2</th>\n",
       "      <td>Ridge Classifier</td>\n",
       "      <td>Imputed</td>\n",
       "      <td>Accuracy</td>\n",
       "      <td>0.9275</td>\n",
       "    </tr>\n",
       "    <tr>\n",
       "      <th>3</th>\n",
       "      <td>Linear Discriminant Analysis</td>\n",
       "      <td>Imputed</td>\n",
       "      <td>Accuracy</td>\n",
       "      <td>0.9217</td>\n",
       "    </tr>\n",
       "    <tr>\n",
       "      <th>4</th>\n",
       "      <td>Extra Trees Classifier</td>\n",
       "      <td>Imputed</td>\n",
       "      <td>Accuracy</td>\n",
       "      <td>0.9181</td>\n",
       "    </tr>\n",
       "  </tbody>\n",
       "</table>\n",
       "</div>"
      ],
      "text/plain": [
       "                             Model   Method  variable   value\n",
       "0              Logistic Regression  Imputed  Accuracy  0.9390\n",
       "1  Light Gradient Boosting Machine  Imputed  Accuracy  0.9295\n",
       "2                 Ridge Classifier  Imputed  Accuracy  0.9275\n",
       "3     Linear Discriminant Analysis  Imputed  Accuracy  0.9217\n",
       "4           Extra Trees Classifier  Imputed  Accuracy  0.9181"
      ]
     },
     "execution_count": 58,
     "metadata": {},
     "output_type": "execute_result"
    }
   ],
   "source": [
    "data_long1.head()"
   ]
  },
  {
   "cell_type": "code",
   "execution_count": 59,
   "metadata": {},
   "outputs": [],
   "source": [
    "data_long = pd.read_csv('C:\\lucy\\Duke\\Biostats823\\Final Project\\delete_sampling_results.csv')"
   ]
  },
  {
   "cell_type": "code",
   "execution_count": 61,
   "metadata": {},
   "outputs": [],
   "source": [
    "data_long = pd.concat([data_long, data_long1])"
   ]
  },
  {
   "cell_type": "code",
   "execution_count": 65,
   "metadata": {},
   "outputs": [],
   "source": [
    "cm = pd.read_excel('C:\\lucy\\Duke\\Biostats823\\Final Project\\Confusion_Matrix.xlsx')"
   ]
  },
  {
   "cell_type": "code",
   "execution_count": 121,
   "metadata": {},
   "outputs": [
    {
     "data": {
      "text/html": [
       "<div>\n",
       "<style scoped>\n",
       "    .dataframe tbody tr th:only-of-type {\n",
       "        vertical-align: middle;\n",
       "    }\n",
       "\n",
       "    .dataframe tbody tr th {\n",
       "        vertical-align: top;\n",
       "    }\n",
       "\n",
       "    .dataframe thead th {\n",
       "        text-align: right;\n",
       "    }\n",
       "</style>\n",
       "<table border=\"1\" class=\"dataframe\">\n",
       "  <thead>\n",
       "    <tr style=\"text-align: right;\">\n",
       "      <th></th>\n",
       "      <th>Model</th>\n",
       "      <th>Method</th>\n",
       "      <th>variable</th>\n",
       "      <th>value</th>\n",
       "      <th>a_11</th>\n",
       "      <th>a_12</th>\n",
       "      <th>a_21</th>\n",
       "      <th>a_22</th>\n",
       "    </tr>\n",
       "  </thead>\n",
       "  <tbody>\n",
       "    <tr>\n",
       "      <th>0</th>\n",
       "      <td>Ridge Classifier</td>\n",
       "      <td>base</td>\n",
       "      <td>Accuracy</td>\n",
       "      <td>0.9293</td>\n",
       "      <td>12</td>\n",
       "      <td>5</td>\n",
       "      <td>1</td>\n",
       "      <td>159</td>\n",
       "    </tr>\n",
       "    <tr>\n",
       "      <th>30</th>\n",
       "      <td>Ridge Classifier</td>\n",
       "      <td>base</td>\n",
       "      <td>AUC</td>\n",
       "      <td>0.0000</td>\n",
       "      <td>12</td>\n",
       "      <td>5</td>\n",
       "      <td>1</td>\n",
       "      <td>159</td>\n",
       "    </tr>\n",
       "    <tr>\n",
       "      <th>60</th>\n",
       "      <td>Ridge Classifier</td>\n",
       "      <td>base</td>\n",
       "      <td>F1</td>\n",
       "      <td>0.9617</td>\n",
       "      <td>12</td>\n",
       "      <td>5</td>\n",
       "      <td>1</td>\n",
       "      <td>159</td>\n",
       "    </tr>\n",
       "  </tbody>\n",
       "</table>\n",
       "</div>"
      ],
      "text/plain": [
       "               Model Method  variable   value  a_11  a_12  a_21  a_22\n",
       "0   Ridge Classifier   base  Accuracy  0.9293    12     5     1   159\n",
       "30  Ridge Classifier   base       AUC  0.0000    12     5     1   159\n",
       "60  Ridge Classifier   base        F1  0.9617    12     5     1   159"
      ]
     },
     "execution_count": 121,
     "metadata": {},
     "output_type": "execute_result"
    }
   ],
   "source": [
    "data_long_new = data_long.merge(cm, on = ['Model','Method'], how = 'left')\n",
    "#data_long_new[(data_long_new['Model'] == 'Ridge Classifier') & (data_long_new['Method'] == 'base')]"
   ]
  },
  {
   "cell_type": "code",
   "execution_count": 149,
   "metadata": {},
   "outputs": [],
   "source": [
    "for i in range(0, len(data_long_new)):\n",
    "    if data_long_new['Method'][i] == 'base':\n",
    "        data_long_new['Method'][i] = 'Dataset after Deleting all the NAs'\n",
    "    elif data_long_new['Method'][i] == 'Imbalanced':\n",
    "        data_long_new['Method'][i] = 'Dataset after Dealing with Imbalance'\n",
    "    elif data_long_new['Method'][i] == 'Imputed':\n",
    "        data_long_new['Method'][i] = 'Dataset after Missing Data Imputation'\n",
    "    else:\n",
    "        data_long_new['Method'][i] = 'Dataset after Missing Data Imputation and Dealing with Imbalance'"
   ]
  },
  {
   "cell_type": "code",
   "execution_count": 166,
   "metadata": {},
   "outputs": [],
   "source": [
    "data_long_new.to_csv('model_results_final.csv', index = False)"
   ]
  }
 ],
 "metadata": {
  "kernelspec": {
   "display_name": "Python 3",
   "language": "python",
   "name": "python3"
  },
  "language_info": {
   "codemirror_mode": {
    "name": "ipython",
    "version": 3
   },
   "file_extension": ".py",
   "mimetype": "text/x-python",
   "name": "python",
   "nbconvert_exporter": "python",
   "pygments_lexer": "ipython3",
   "version": "3.6.5"
  }
 },
 "nbformat": 4,
 "nbformat_minor": 2
}
