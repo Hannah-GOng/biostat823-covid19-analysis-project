{
 "cells": [
  {
   "cell_type": "code",
   "execution_count": 1,
   "metadata": {},
   "outputs": [],
   "source": [
    "import pandas as pd\n",
    "\n",
    "import chart_studio.plotly as py\n",
    "import plotly.offline as po\n",
    "import plotly.graph_objs as pg\n",
    "import matplotlib.pyplot as plt\n",
    "%matplotlib inline\n",
    "\n",
    "import plotly.graph_objects as go\n",
    "from plotly.subplots import make_subplots"
   ]
  },
  {
   "cell_type": "code",
   "execution_count": 2,
   "metadata": {},
   "outputs": [],
   "source": [
    "forcast_df = pd.read_csv('2021-11-15-all-forecasted-deaths-model-data.csv')"
   ]
  },
  {
   "cell_type": "code",
   "execution_count": 3,
   "metadata": {},
   "outputs": [
    {
     "data": {
      "text/plain": [
       "array(['1 wk ahead cum death', '1 wk ahead inc death',\n",
       "       '2 wk ahead cum death', '2 wk ahead inc death',\n",
       "       '3 wk ahead cum death', '3 wk ahead inc death',\n",
       "       '4 wk ahead cum death', '4 wk ahead inc death'], dtype=object)"
      ]
     },
     "execution_count": 3,
     "metadata": {},
     "output_type": "execute_result"
    }
   ],
   "source": [
    "forcast_df['target'].unique()"
   ]
  },
  {
   "cell_type": "code",
   "execution_count": 4,
   "metadata": {},
   "outputs": [],
   "source": [
    "forcast_df['forecast_date'] = pd.to_datetime(forcast_df['forecast_date']).dt.date\n",
    "forcast_df = forcast_df[(forcast_df['target'] == '1 wk ahead cum death') |(forcast_df['target'] == '2 wk ahead cum death') | (forcast_df['target'] == '3 wk ahead cum death') |(forcast_df['target'] == '4 wk ahead cum death')]"
   ]
  },
  {
   "cell_type": "code",
   "execution_count": 5,
   "metadata": {},
   "outputs": [
    {
     "data": {
      "text/html": [
       "<div>\n",
       "<style scoped>\n",
       "    .dataframe tbody tr th:only-of-type {\n",
       "        vertical-align: middle;\n",
       "    }\n",
       "\n",
       "    .dataframe tbody tr th {\n",
       "        vertical-align: top;\n",
       "    }\n",
       "\n",
       "    .dataframe thead th {\n",
       "        text-align: right;\n",
       "    }\n",
       "</style>\n",
       "<table border=\"1\" class=\"dataframe\">\n",
       "  <thead>\n",
       "    <tr style=\"text-align: right;\">\n",
       "      <th></th>\n",
       "      <th>model</th>\n",
       "      <th>forecast_date</th>\n",
       "      <th>target</th>\n",
       "      <th>target_week_end_date</th>\n",
       "      <th>location_name</th>\n",
       "      <th>point</th>\n",
       "      <th>quantile_0.025</th>\n",
       "      <th>quantile_0.25</th>\n",
       "      <th>quantile_0.75</th>\n",
       "      <th>quantile_0.975</th>\n",
       "    </tr>\n",
       "  </thead>\n",
       "  <tbody>\n",
       "    <tr>\n",
       "      <th>4670</th>\n",
       "      <td>USC</td>\n",
       "      <td>2021-11-15</td>\n",
       "      <td>4 wk ahead cum death</td>\n",
       "      <td>2021-12-11</td>\n",
       "      <td>Guam</td>\n",
       "      <td>278</td>\n",
       "      <td>265</td>\n",
       "      <td>276</td>\n",
       "      <td>280</td>\n",
       "      <td>289</td>\n",
       "    </tr>\n",
       "    <tr>\n",
       "      <th>4671</th>\n",
       "      <td>USC</td>\n",
       "      <td>2021-11-15</td>\n",
       "      <td>4 wk ahead cum death</td>\n",
       "      <td>2021-12-11</td>\n",
       "      <td>Northern Mariana Islands</td>\n",
       "      <td>3</td>\n",
       "      <td>3</td>\n",
       "      <td>3</td>\n",
       "      <td>3</td>\n",
       "      <td>7</td>\n",
       "    </tr>\n",
       "    <tr>\n",
       "      <th>4672</th>\n",
       "      <td>USC</td>\n",
       "      <td>2021-11-15</td>\n",
       "      <td>4 wk ahead cum death</td>\n",
       "      <td>2021-12-11</td>\n",
       "      <td>Puerto Rico</td>\n",
       "      <td>3293</td>\n",
       "      <td>3286</td>\n",
       "      <td>3289</td>\n",
       "      <td>3296</td>\n",
       "      <td>3300</td>\n",
       "    </tr>\n",
       "    <tr>\n",
       "      <th>4673</th>\n",
       "      <td>USC</td>\n",
       "      <td>2021-11-15</td>\n",
       "      <td>4 wk ahead cum death</td>\n",
       "      <td>2021-12-11</td>\n",
       "      <td>Virgin Islands</td>\n",
       "      <td>88</td>\n",
       "      <td>84</td>\n",
       "      <td>87</td>\n",
       "      <td>89</td>\n",
       "      <td>97</td>\n",
       "    </tr>\n",
       "    <tr>\n",
       "      <th>4674</th>\n",
       "      <td>USC</td>\n",
       "      <td>2021-11-15</td>\n",
       "      <td>4 wk ahead cum death</td>\n",
       "      <td>2021-12-11</td>\n",
       "      <td>National</td>\n",
       "      <td>790223</td>\n",
       "      <td>783745</td>\n",
       "      <td>788327</td>\n",
       "      <td>791722</td>\n",
       "      <td>803212</td>\n",
       "    </tr>\n",
       "  </tbody>\n",
       "</table>\n",
       "</div>"
      ],
      "text/plain": [
       "     model forecast_date                target target_week_end_date  \\\n",
       "4670   USC    2021-11-15  4 wk ahead cum death           2021-12-11   \n",
       "4671   USC    2021-11-15  4 wk ahead cum death           2021-12-11   \n",
       "4672   USC    2021-11-15  4 wk ahead cum death           2021-12-11   \n",
       "4673   USC    2021-11-15  4 wk ahead cum death           2021-12-11   \n",
       "4674   USC    2021-11-15  4 wk ahead cum death           2021-12-11   \n",
       "\n",
       "                 location_name   point  quantile_0.025  quantile_0.25  \\\n",
       "4670                      Guam     278             265            276   \n",
       "4671  Northern Mariana Islands       3               3              3   \n",
       "4672               Puerto Rico    3293            3286           3289   \n",
       "4673            Virgin Islands      88              84             87   \n",
       "4674                  National  790223          783745         788327   \n",
       "\n",
       "      quantile_0.75  quantile_0.975  \n",
       "4670            280             289  \n",
       "4671              3               7  \n",
       "4672           3296            3300  \n",
       "4673             89              97  \n",
       "4674         791722          803212  "
      ]
     },
     "execution_count": 5,
     "metadata": {},
     "output_type": "execute_result"
    }
   ],
   "source": [
    "forcast_df.tail()"
   ]
  },
  {
   "cell_type": "code",
   "execution_count": 36,
   "metadata": {},
   "outputs": [],
   "source": [
    "df_filter = forcast_df[forcast_df['model'] == 'BPagano']\n",
    "df_filter = df_filter[df_filter['location_name'] == 'Illinois']"
   ]
  },
  {
   "cell_type": "code",
   "execution_count": 37,
   "metadata": {},
   "outputs": [
    {
     "data": {
      "text/html": [
       "<div>\n",
       "<style scoped>\n",
       "    .dataframe tbody tr th:only-of-type {\n",
       "        vertical-align: middle;\n",
       "    }\n",
       "\n",
       "    .dataframe tbody tr th {\n",
       "        vertical-align: top;\n",
       "    }\n",
       "\n",
       "    .dataframe thead th {\n",
       "        text-align: right;\n",
       "    }\n",
       "</style>\n",
       "<table border=\"1\" class=\"dataframe\">\n",
       "  <thead>\n",
       "    <tr style=\"text-align: right;\">\n",
       "      <th></th>\n",
       "      <th>model</th>\n",
       "      <th>forecast_date</th>\n",
       "      <th>target</th>\n",
       "      <th>target_week_end_date</th>\n",
       "      <th>location_name</th>\n",
       "      <th>point</th>\n",
       "      <th>quantile_0.025</th>\n",
       "      <th>quantile_0.25</th>\n",
       "      <th>quantile_0.75</th>\n",
       "      <th>quantile_0.975</th>\n",
       "    </tr>\n",
       "  </thead>\n",
       "  <tbody>\n",
       "    <tr>\n",
       "      <th>13</th>\n",
       "      <td>BPagano</td>\n",
       "      <td>2021-11-15</td>\n",
       "      <td>1 wk ahead cum death</td>\n",
       "      <td>2021-11-20</td>\n",
       "      <td>Illinois</td>\n",
       "      <td>28638</td>\n",
       "      <td>28617</td>\n",
       "      <td>28630</td>\n",
       "      <td>28645</td>\n",
       "      <td>28659</td>\n",
       "    </tr>\n",
       "    <tr>\n",
       "      <th>119</th>\n",
       "      <td>BPagano</td>\n",
       "      <td>2021-11-15</td>\n",
       "      <td>2 wk ahead cum death</td>\n",
       "      <td>2021-11-27</td>\n",
       "      <td>Illinois</td>\n",
       "      <td>28767</td>\n",
       "      <td>28715</td>\n",
       "      <td>28749</td>\n",
       "      <td>28785</td>\n",
       "      <td>28819</td>\n",
       "    </tr>\n",
       "    <tr>\n",
       "      <th>225</th>\n",
       "      <td>BPagano</td>\n",
       "      <td>2021-11-15</td>\n",
       "      <td>3 wk ahead cum death</td>\n",
       "      <td>2021-12-04</td>\n",
       "      <td>Illinois</td>\n",
       "      <td>28901</td>\n",
       "      <td>28804</td>\n",
       "      <td>28866</td>\n",
       "      <td>28934</td>\n",
       "      <td>28996</td>\n",
       "    </tr>\n",
       "    <tr>\n",
       "      <th>331</th>\n",
       "      <td>BPagano</td>\n",
       "      <td>2021-11-15</td>\n",
       "      <td>4 wk ahead cum death</td>\n",
       "      <td>2021-12-11</td>\n",
       "      <td>Illinois</td>\n",
       "      <td>29045</td>\n",
       "      <td>28876</td>\n",
       "      <td>28985</td>\n",
       "      <td>29102</td>\n",
       "      <td>29211</td>\n",
       "    </tr>\n",
       "  </tbody>\n",
       "</table>\n",
       "</div>"
      ],
      "text/plain": [
       "       model forecast_date                target target_week_end_date  \\\n",
       "13   BPagano    2021-11-15  1 wk ahead cum death           2021-11-20   \n",
       "119  BPagano    2021-11-15  2 wk ahead cum death           2021-11-27   \n",
       "225  BPagano    2021-11-15  3 wk ahead cum death           2021-12-04   \n",
       "331  BPagano    2021-11-15  4 wk ahead cum death           2021-12-11   \n",
       "\n",
       "    location_name  point  quantile_0.025  quantile_0.25  quantile_0.75  \\\n",
       "13       Illinois  28638           28617          28630          28645   \n",
       "119      Illinois  28767           28715          28749          28785   \n",
       "225      Illinois  28901           28804          28866          28934   \n",
       "331      Illinois  29045           28876          28985          29102   \n",
       "\n",
       "     quantile_0.975  \n",
       "13            28659  \n",
       "119           28819  \n",
       "225           28996  \n",
       "331           29211  "
      ]
     },
     "execution_count": 37,
     "metadata": {},
     "output_type": "execute_result"
    }
   ],
   "source": [
    "df_filter"
   ]
  },
  {
   "cell_type": "code",
   "execution_count": 38,
   "metadata": {},
   "outputs": [
    {
     "data": {
      "application/vnd.plotly.v1+json": {
       "config": {
        "plotlyServerURL": "https://plot.ly"
       },
       "data": [
        {
         "line": {
          "color": "rgb(31, 119, 180)"
         },
         "marker": {
          "size": 9
         },
         "name": "Number of Cases Forcasting",
         "type": "scatter",
         "x": [
          "2021-11-20",
          "2021-11-27",
          "2021-12-04",
          "2021-12-11"
         ],
         "y": [
          28638,
          28767,
          28901,
          29045
         ]
        },
        {
         "line": {
          "width": 0
         },
         "marker": {
          "color": "#444"
         },
         "mode": "lines",
         "name": "Lower 50% Prediction Interval",
         "showlegend": false,
         "type": "scatter",
         "x": [
          "2021-11-20",
          "2021-11-27",
          "2021-12-04",
          "2021-12-11"
         ],
         "y": [
          28630,
          28749,
          28866,
          28985
         ]
        },
        {
         "fill": "tonexty",
         "fillcolor": "rgba(68, 68, 68, 0.3)",
         "line": {
          "width": 0
         },
         "marker": {
          "color": "#444"
         },
         "mode": "lines",
         "name": "Upper 50% Prediction Interval",
         "showlegend": false,
         "type": "scatter",
         "x": [
          "2021-11-20",
          "2021-11-27",
          "2021-12-04",
          "2021-12-11"
         ],
         "y": [
          28645,
          28785,
          28934,
          29102
         ]
        },
        {
         "line": {
          "width": 0
         },
         "marker": {
          "color": "#444"
         },
         "mode": "lines",
         "name": "Lower 95% Prediction Interval",
         "showlegend": false,
         "type": "scatter",
         "x": [
          "2021-11-20",
          "2021-11-27",
          "2021-12-04",
          "2021-12-11"
         ],
         "y": [
          28617,
          28715,
          28804,
          28876
         ]
        },
        {
         "fill": "tonexty",
         "fillcolor": "rgba(68, 68, 68, 0.3)",
         "line": {
          "width": 0
         },
         "marker": {
          "color": "#444"
         },
         "mode": "lines",
         "name": "Upper 95% Prediction Interval",
         "showlegend": false,
         "type": "scatter",
         "x": [
          "2021-11-20",
          "2021-11-27",
          "2021-12-04",
          "2021-12-11"
         ],
         "y": [
          28659,
          28819,
          28996,
          29211
         ]
        }
       ],
       "layout": {
        "autosize": true,
        "hovermode": "x",
        "template": {
         "data": {
          "bar": [
           {
            "error_x": {
             "color": "#2a3f5f"
            },
            "error_y": {
             "color": "#2a3f5f"
            },
            "marker": {
             "line": {
              "color": "#E5ECF6",
              "width": 0.5
             },
             "pattern": {
              "fillmode": "overlay",
              "size": 10,
              "solidity": 0.2
             }
            },
            "type": "bar"
           }
          ],
          "barpolar": [
           {
            "marker": {
             "line": {
              "color": "#E5ECF6",
              "width": 0.5
             },
             "pattern": {
              "fillmode": "overlay",
              "size": 10,
              "solidity": 0.2
             }
            },
            "type": "barpolar"
           }
          ],
          "carpet": [
           {
            "aaxis": {
             "endlinecolor": "#2a3f5f",
             "gridcolor": "white",
             "linecolor": "white",
             "minorgridcolor": "white",
             "startlinecolor": "#2a3f5f"
            },
            "baxis": {
             "endlinecolor": "#2a3f5f",
             "gridcolor": "white",
             "linecolor": "white",
             "minorgridcolor": "white",
             "startlinecolor": "#2a3f5f"
            },
            "type": "carpet"
           }
          ],
          "choropleth": [
           {
            "colorbar": {
             "outlinewidth": 0,
             "ticks": ""
            },
            "type": "choropleth"
           }
          ],
          "contour": [
           {
            "colorbar": {
             "outlinewidth": 0,
             "ticks": ""
            },
            "colorscale": [
             [
              0,
              "#0d0887"
             ],
             [
              0.1111111111111111,
              "#46039f"
             ],
             [
              0.2222222222222222,
              "#7201a8"
             ],
             [
              0.3333333333333333,
              "#9c179e"
             ],
             [
              0.4444444444444444,
              "#bd3786"
             ],
             [
              0.5555555555555556,
              "#d8576b"
             ],
             [
              0.6666666666666666,
              "#ed7953"
             ],
             [
              0.7777777777777778,
              "#fb9f3a"
             ],
             [
              0.8888888888888888,
              "#fdca26"
             ],
             [
              1,
              "#f0f921"
             ]
            ],
            "type": "contour"
           }
          ],
          "contourcarpet": [
           {
            "colorbar": {
             "outlinewidth": 0,
             "ticks": ""
            },
            "type": "contourcarpet"
           }
          ],
          "heatmap": [
           {
            "colorbar": {
             "outlinewidth": 0,
             "ticks": ""
            },
            "colorscale": [
             [
              0,
              "#0d0887"
             ],
             [
              0.1111111111111111,
              "#46039f"
             ],
             [
              0.2222222222222222,
              "#7201a8"
             ],
             [
              0.3333333333333333,
              "#9c179e"
             ],
             [
              0.4444444444444444,
              "#bd3786"
             ],
             [
              0.5555555555555556,
              "#d8576b"
             ],
             [
              0.6666666666666666,
              "#ed7953"
             ],
             [
              0.7777777777777778,
              "#fb9f3a"
             ],
             [
              0.8888888888888888,
              "#fdca26"
             ],
             [
              1,
              "#f0f921"
             ]
            ],
            "type": "heatmap"
           }
          ],
          "heatmapgl": [
           {
            "colorbar": {
             "outlinewidth": 0,
             "ticks": ""
            },
            "colorscale": [
             [
              0,
              "#0d0887"
             ],
             [
              0.1111111111111111,
              "#46039f"
             ],
             [
              0.2222222222222222,
              "#7201a8"
             ],
             [
              0.3333333333333333,
              "#9c179e"
             ],
             [
              0.4444444444444444,
              "#bd3786"
             ],
             [
              0.5555555555555556,
              "#d8576b"
             ],
             [
              0.6666666666666666,
              "#ed7953"
             ],
             [
              0.7777777777777778,
              "#fb9f3a"
             ],
             [
              0.8888888888888888,
              "#fdca26"
             ],
             [
              1,
              "#f0f921"
             ]
            ],
            "type": "heatmapgl"
           }
          ],
          "histogram": [
           {
            "marker": {
             "pattern": {
              "fillmode": "overlay",
              "size": 10,
              "solidity": 0.2
             }
            },
            "type": "histogram"
           }
          ],
          "histogram2d": [
           {
            "colorbar": {
             "outlinewidth": 0,
             "ticks": ""
            },
            "colorscale": [
             [
              0,
              "#0d0887"
             ],
             [
              0.1111111111111111,
              "#46039f"
             ],
             [
              0.2222222222222222,
              "#7201a8"
             ],
             [
              0.3333333333333333,
              "#9c179e"
             ],
             [
              0.4444444444444444,
              "#bd3786"
             ],
             [
              0.5555555555555556,
              "#d8576b"
             ],
             [
              0.6666666666666666,
              "#ed7953"
             ],
             [
              0.7777777777777778,
              "#fb9f3a"
             ],
             [
              0.8888888888888888,
              "#fdca26"
             ],
             [
              1,
              "#f0f921"
             ]
            ],
            "type": "histogram2d"
           }
          ],
          "histogram2dcontour": [
           {
            "colorbar": {
             "outlinewidth": 0,
             "ticks": ""
            },
            "colorscale": [
             [
              0,
              "#0d0887"
             ],
             [
              0.1111111111111111,
              "#46039f"
             ],
             [
              0.2222222222222222,
              "#7201a8"
             ],
             [
              0.3333333333333333,
              "#9c179e"
             ],
             [
              0.4444444444444444,
              "#bd3786"
             ],
             [
              0.5555555555555556,
              "#d8576b"
             ],
             [
              0.6666666666666666,
              "#ed7953"
             ],
             [
              0.7777777777777778,
              "#fb9f3a"
             ],
             [
              0.8888888888888888,
              "#fdca26"
             ],
             [
              1,
              "#f0f921"
             ]
            ],
            "type": "histogram2dcontour"
           }
          ],
          "mesh3d": [
           {
            "colorbar": {
             "outlinewidth": 0,
             "ticks": ""
            },
            "type": "mesh3d"
           }
          ],
          "parcoords": [
           {
            "line": {
             "colorbar": {
              "outlinewidth": 0,
              "ticks": ""
             }
            },
            "type": "parcoords"
           }
          ],
          "pie": [
           {
            "automargin": true,
            "type": "pie"
           }
          ],
          "scatter": [
           {
            "marker": {
             "colorbar": {
              "outlinewidth": 0,
              "ticks": ""
             }
            },
            "type": "scatter"
           }
          ],
          "scatter3d": [
           {
            "line": {
             "colorbar": {
              "outlinewidth": 0,
              "ticks": ""
             }
            },
            "marker": {
             "colorbar": {
              "outlinewidth": 0,
              "ticks": ""
             }
            },
            "type": "scatter3d"
           }
          ],
          "scattercarpet": [
           {
            "marker": {
             "colorbar": {
              "outlinewidth": 0,
              "ticks": ""
             }
            },
            "type": "scattercarpet"
           }
          ],
          "scattergeo": [
           {
            "marker": {
             "colorbar": {
              "outlinewidth": 0,
              "ticks": ""
             }
            },
            "type": "scattergeo"
           }
          ],
          "scattergl": [
           {
            "marker": {
             "colorbar": {
              "outlinewidth": 0,
              "ticks": ""
             }
            },
            "type": "scattergl"
           }
          ],
          "scattermapbox": [
           {
            "marker": {
             "colorbar": {
              "outlinewidth": 0,
              "ticks": ""
             }
            },
            "type": "scattermapbox"
           }
          ],
          "scatterpolar": [
           {
            "marker": {
             "colorbar": {
              "outlinewidth": 0,
              "ticks": ""
             }
            },
            "type": "scatterpolar"
           }
          ],
          "scatterpolargl": [
           {
            "marker": {
             "colorbar": {
              "outlinewidth": 0,
              "ticks": ""
             }
            },
            "type": "scatterpolargl"
           }
          ],
          "scatterternary": [
           {
            "marker": {
             "colorbar": {
              "outlinewidth": 0,
              "ticks": ""
             }
            },
            "type": "scatterternary"
           }
          ],
          "surface": [
           {
            "colorbar": {
             "outlinewidth": 0,
             "ticks": ""
            },
            "colorscale": [
             [
              0,
              "#0d0887"
             ],
             [
              0.1111111111111111,
              "#46039f"
             ],
             [
              0.2222222222222222,
              "#7201a8"
             ],
             [
              0.3333333333333333,
              "#9c179e"
             ],
             [
              0.4444444444444444,
              "#bd3786"
             ],
             [
              0.5555555555555556,
              "#d8576b"
             ],
             [
              0.6666666666666666,
              "#ed7953"
             ],
             [
              0.7777777777777778,
              "#fb9f3a"
             ],
             [
              0.8888888888888888,
              "#fdca26"
             ],
             [
              1,
              "#f0f921"
             ]
            ],
            "type": "surface"
           }
          ],
          "table": [
           {
            "cells": {
             "fill": {
              "color": "#EBF0F8"
             },
             "line": {
              "color": "white"
             }
            },
            "header": {
             "fill": {
              "color": "#C8D4E3"
             },
             "line": {
              "color": "white"
             }
            },
            "type": "table"
           }
          ]
         },
         "layout": {
          "annotationdefaults": {
           "arrowcolor": "#2a3f5f",
           "arrowhead": 0,
           "arrowwidth": 1
          },
          "autotypenumbers": "strict",
          "coloraxis": {
           "colorbar": {
            "outlinewidth": 0,
            "ticks": ""
           }
          },
          "colorscale": {
           "diverging": [
            [
             0,
             "#8e0152"
            ],
            [
             0.1,
             "#c51b7d"
            ],
            [
             0.2,
             "#de77ae"
            ],
            [
             0.3,
             "#f1b6da"
            ],
            [
             0.4,
             "#fde0ef"
            ],
            [
             0.5,
             "#f7f7f7"
            ],
            [
             0.6,
             "#e6f5d0"
            ],
            [
             0.7,
             "#b8e186"
            ],
            [
             0.8,
             "#7fbc41"
            ],
            [
             0.9,
             "#4d9221"
            ],
            [
             1,
             "#276419"
            ]
           ],
           "sequential": [
            [
             0,
             "#0d0887"
            ],
            [
             0.1111111111111111,
             "#46039f"
            ],
            [
             0.2222222222222222,
             "#7201a8"
            ],
            [
             0.3333333333333333,
             "#9c179e"
            ],
            [
             0.4444444444444444,
             "#bd3786"
            ],
            [
             0.5555555555555556,
             "#d8576b"
            ],
            [
             0.6666666666666666,
             "#ed7953"
            ],
            [
             0.7777777777777778,
             "#fb9f3a"
            ],
            [
             0.8888888888888888,
             "#fdca26"
            ],
            [
             1,
             "#f0f921"
            ]
           ],
           "sequentialminus": [
            [
             0,
             "#0d0887"
            ],
            [
             0.1111111111111111,
             "#46039f"
            ],
            [
             0.2222222222222222,
             "#7201a8"
            ],
            [
             0.3333333333333333,
             "#9c179e"
            ],
            [
             0.4444444444444444,
             "#bd3786"
            ],
            [
             0.5555555555555556,
             "#d8576b"
            ],
            [
             0.6666666666666666,
             "#ed7953"
            ],
            [
             0.7777777777777778,
             "#fb9f3a"
            ],
            [
             0.8888888888888888,
             "#fdca26"
            ],
            [
             1,
             "#f0f921"
            ]
           ]
          },
          "colorway": [
           "#636efa",
           "#EF553B",
           "#00cc96",
           "#ab63fa",
           "#FFA15A",
           "#19d3f3",
           "#FF6692",
           "#B6E880",
           "#FF97FF",
           "#FECB52"
          ],
          "font": {
           "color": "#2a3f5f"
          },
          "geo": {
           "bgcolor": "white",
           "lakecolor": "white",
           "landcolor": "#E5ECF6",
           "showlakes": true,
           "showland": true,
           "subunitcolor": "white"
          },
          "hoverlabel": {
           "align": "left"
          },
          "hovermode": "closest",
          "mapbox": {
           "style": "light"
          },
          "paper_bgcolor": "white",
          "plot_bgcolor": "#E5ECF6",
          "polar": {
           "angularaxis": {
            "gridcolor": "white",
            "linecolor": "white",
            "ticks": ""
           },
           "bgcolor": "#E5ECF6",
           "radialaxis": {
            "gridcolor": "white",
            "linecolor": "white",
            "ticks": ""
           }
          },
          "scene": {
           "xaxis": {
            "backgroundcolor": "#E5ECF6",
            "gridcolor": "white",
            "gridwidth": 2,
            "linecolor": "white",
            "showbackground": true,
            "ticks": "",
            "zerolinecolor": "white"
           },
           "yaxis": {
            "backgroundcolor": "#E5ECF6",
            "gridcolor": "white",
            "gridwidth": 2,
            "linecolor": "white",
            "showbackground": true,
            "ticks": "",
            "zerolinecolor": "white"
           },
           "zaxis": {
            "backgroundcolor": "#E5ECF6",
            "gridcolor": "white",
            "gridwidth": 2,
            "linecolor": "white",
            "showbackground": true,
            "ticks": "",
            "zerolinecolor": "white"
           }
          },
          "shapedefaults": {
           "line": {
            "color": "#2a3f5f"
           }
          },
          "ternary": {
           "aaxis": {
            "gridcolor": "white",
            "linecolor": "white",
            "ticks": ""
           },
           "baxis": {
            "gridcolor": "white",
            "linecolor": "white",
            "ticks": ""
           },
           "bgcolor": "#E5ECF6",
           "caxis": {
            "gridcolor": "white",
            "linecolor": "white",
            "ticks": ""
           }
          },
          "title": {
           "x": 0.05
          },
          "xaxis": {
           "automargin": true,
           "gridcolor": "white",
           "linecolor": "white",
           "ticks": "",
           "title": {
            "standoff": 15
           },
           "zerolinecolor": "white",
           "zerolinewidth": 2
          },
          "yaxis": {
           "automargin": true,
           "gridcolor": "white",
           "linecolor": "white",
           "ticks": "",
           "title": {
            "standoff": 15
           },
           "zerolinecolor": "white",
           "zerolinewidth": 2
          }
         }
        },
        "title": {
         "text": "Continuous, variable value error bars"
        },
        "xaxis": {
         "autorange": true,
         "range": [
          "2021-11-18 15:46:50.1266",
          "2021-12-12 08:13:09.8734"
         ],
         "type": "date"
        },
        "yaxis": {
         "autorange": true,
         "range": [
          28584,
          29244
         ],
         "title": {
          "text": ""
         },
         "type": "linear"
        }
       }
      },
      "image/png": "[encoded data removed]",
      "text/html": [
       "<div>                            <div id=\"3b73beb7-a6f7-4f4d-b9d3-17aeb7f35f1b\" class=\"plotly-graph-div\" style=\"height:525px; width:100%;\"></div>            <script type=\"text/javascript\">                require([\"plotly\"], function(Plotly) {                    window.PLOTLYENV=window.PLOTLYENV || {};                                    if (document.getElementById(\"3b73beb7-a6f7-4f4d-b9d3-17aeb7f35f1b\")) {                    Plotly.newPlot(                        \"3b73beb7-a6f7-4f4d-b9d3-17aeb7f35f1b\",                        [{\"line\":{\"color\":\"rgb(31, 119, 180)\"},\"marker\":{\"size\":9},\"name\":\"Number of Cases Forcasting\",\"type\":\"scatter\",\"x\":[\"2021-11-20\",\"2021-11-27\",\"2021-12-04\",\"2021-12-11\"],\"y\":[28638,28767,28901,29045]},{\"line\":{\"width\":0},\"marker\":{\"color\":\"#444\"},\"mode\":\"lines\",\"name\":\"Lower 50% Prediction Interval\",\"showlegend\":false,\"type\":\"scatter\",\"x\":[\"2021-11-20\",\"2021-11-27\",\"2021-12-04\",\"2021-12-11\"],\"y\":[28630,28749,28866,28985]},{\"fill\":\"tonexty\",\"fillcolor\":\"rgba(68, 68, 68, 0.3)\",\"line\":{\"width\":0},\"marker\":{\"color\":\"#444\"},\"mode\":\"lines\",\"name\":\"Upper 50% Prediction Interval\",\"showlegend\":false,\"type\":\"scatter\",\"x\":[\"2021-11-20\",\"2021-11-27\",\"2021-12-04\",\"2021-12-11\"],\"y\":[28645,28785,28934,29102]},{\"line\":{\"width\":0},\"marker\":{\"color\":\"#444\"},\"mode\":\"lines\",\"name\":\"Lower 95% Prediction Interval\",\"showlegend\":false,\"type\":\"scatter\",\"x\":[\"2021-11-20\",\"2021-11-27\",\"2021-12-04\",\"2021-12-11\"],\"y\":[28617,28715,28804,28876]},{\"fill\":\"tonexty\",\"fillcolor\":\"rgba(68, 68, 68, 0.3)\",\"line\":{\"width\":0},\"marker\":{\"color\":\"#444\"},\"mode\":\"lines\",\"name\":\"Upper 95% Prediction Interval\",\"showlegend\":false,\"type\":\"scatter\",\"x\":[\"2021-11-20\",\"2021-11-27\",\"2021-12-04\",\"2021-12-11\"],\"y\":[28659,28819,28996,29211]}],                        {\"hovermode\":\"x\",\"template\":{\"data\":{\"bar\":[{\"error_x\":{\"color\":\"#2a3f5f\"},\"error_y\":{\"color\":\"#2a3f5f\"},\"marker\":{\"line\":{\"color\":\"#E5ECF6\",\"width\":0.5},\"pattern\":{\"fillmode\":\"overlay\",\"size\":10,\"solidity\":0.2}},\"type\":\"bar\"}],\"barpolar\":[{\"marker\":{\"line\":{\"color\":\"#E5ECF6\",\"width\":0.5},\"pattern\":{\"fillmode\":\"overlay\",\"size\":10,\"solidity\":0.2}},\"type\":\"barpolar\"}],\"carpet\":[{\"aaxis\":{\"endlinecolor\":\"#2a3f5f\",\"gridcolor\":\"white\",\"linecolor\":\"white\",\"minorgridcolor\":\"white\",\"startlinecolor\":\"#2a3f5f\"},\"baxis\":{\"endlinecolor\":\"#2a3f5f\",\"gridcolor\":\"white\",\"linecolor\":\"white\",\"minorgridcolor\":\"white\",\"startlinecolor\":\"#2a3f5f\"},\"type\":\"carpet\"}],\"choropleth\":[{\"colorbar\":{\"outlinewidth\":0,\"ticks\":\"\"},\"type\":\"choropleth\"}],\"contour\":[{\"colorbar\":{\"outlinewidth\":0,\"ticks\":\"\"},\"colorscale\":[[0.0,\"#0d0887\"],[0.1111111111111111,\"#46039f\"],[0.2222222222222222,\"#7201a8\"],[0.3333333333333333,\"#9c179e\"],[0.4444444444444444,\"#bd3786\"],[0.5555555555555556,\"#d8576b\"],[0.6666666666666666,\"#ed7953\"],[0.7777777777777778,\"#fb9f3a\"],[0.8888888888888888,\"#fdca26\"],[1.0,\"#f0f921\"]],\"type\":\"contour\"}],\"contourcarpet\":[{\"colorbar\":{\"outlinewidth\":0,\"ticks\":\"\"},\"type\":\"contourcarpet\"}],\"heatmap\":[{\"colorbar\":{\"outlinewidth\":0,\"ticks\":\"\"},\"colorscale\":[[0.0,\"#0d0887\"],[0.1111111111111111,\"#46039f\"],[0.2222222222222222,\"#7201a8\"],[0.3333333333333333,\"#9c179e\"],[0.4444444444444444,\"#bd3786\"],[0.5555555555555556,\"#d8576b\"],[0.6666666666666666,\"#ed7953\"],[0.7777777777777778,\"#fb9f3a\"],[0.8888888888888888,\"#fdca26\"],[1.0,\"#f0f921\"]],\"type\":\"heatmap\"}],\"heatmapgl\":[{\"colorbar\":{\"outlinewidth\":0,\"ticks\":\"\"},\"colorscale\":[[0.0,\"#0d0887\"],[0.1111111111111111,\"#46039f\"],[0.2222222222222222,\"#7201a8\"],[0.3333333333333333,\"#9c179e\"],[0.4444444444444444,\"#bd3786\"],[0.5555555555555556,\"#d8576b\"],[0.6666666666666666,\"#ed7953\"],[0.7777777777777778,\"#fb9f3a\"],[0.8888888888888888,\"#fdca26\"],[1.0,\"#f0f921\"]],\"type\":\"heatmapgl\"}],\"histogram\":[{\"marker\":{\"pattern\":{\"fillmode\":\"overlay\",\"size\":10,\"solidity\":0.2}},\"type\":\"histogram\"}],\"histogram2d\":[{\"colorbar\":{\"outlinewidth\":0,\"ticks\":\"\"},\"colorscale\":[[0.0,\"#0d0887\"],[0.1111111111111111,\"#46039f\"],[0.2222222222222222,\"#7201a8\"],[0.3333333333333333,\"#9c179e\"],[0.4444444444444444,\"#bd3786\"],[0.5555555555555556,\"#d8576b\"],[0.6666666666666666,\"#ed7953\"],[0.7777777777777778,\"#fb9f3a\"],[0.8888888888888888,\"#fdca26\"],[1.0,\"#f0f921\"]],\"type\":\"histogram2d\"}],\"histogram2dcontour\":[{\"colorbar\":{\"outlinewidth\":0,\"ticks\":\"\"},\"colorscale\":[[0.0,\"#0d0887\"],[0.1111111111111111,\"#46039f\"],[0.2222222222222222,\"#7201a8\"],[0.3333333333333333,\"#9c179e\"],[0.4444444444444444,\"#bd3786\"],[0.5555555555555556,\"#d8576b\"],[0.6666666666666666,\"#ed7953\"],[0.7777777777777778,\"#fb9f3a\"],[0.8888888888888888,\"#fdca26\"],[1.0,\"#f0f921\"]],\"type\":\"histogram2dcontour\"}],\"mesh3d\":[{\"colorbar\":{\"outlinewidth\":0,\"ticks\":\"\"},\"type\":\"mesh3d\"}],\"parcoords\":[{\"line\":{\"colorbar\":{\"outlinewidth\":0,\"ticks\":\"\"}},\"type\":\"parcoords\"}],\"pie\":[{\"automargin\":true,\"type\":\"pie\"}],\"scatter\":[{\"marker\":{\"colorbar\":{\"outlinewidth\":0,\"ticks\":\"\"}},\"type\":\"scatter\"}],\"scatter3d\":[{\"line\":{\"colorbar\":{\"outlinewidth\":0,\"ticks\":\"\"}},\"marker\":{\"colorbar\":{\"outlinewidth\":0,\"ticks\":\"\"}},\"type\":\"scatter3d\"}],\"scattercarpet\":[{\"marker\":{\"colorbar\":{\"outlinewidth\":0,\"ticks\":\"\"}},\"type\":\"scattercarpet\"}],\"scattergeo\":[{\"marker\":{\"colorbar\":{\"outlinewidth\":0,\"ticks\":\"\"}},\"type\":\"scattergeo\"}],\"scattergl\":[{\"marker\":{\"colorbar\":{\"outlinewidth\":0,\"ticks\":\"\"}},\"type\":\"scattergl\"}],\"scattermapbox\":[{\"marker\":{\"colorbar\":{\"outlinewidth\":0,\"ticks\":\"\"}},\"type\":\"scattermapbox\"}],\"scatterpolar\":[{\"marker\":{\"colorbar\":{\"outlinewidth\":0,\"ticks\":\"\"}},\"type\":\"scatterpolar\"}],\"scatterpolargl\":[{\"marker\":{\"colorbar\":{\"outlinewidth\":0,\"ticks\":\"\"}},\"type\":\"scatterpolargl\"}],\"scatterternary\":[{\"marker\":{\"colorbar\":{\"outlinewidth\":0,\"ticks\":\"\"}},\"type\":\"scatterternary\"}],\"surface\":[{\"colorbar\":{\"outlinewidth\":0,\"ticks\":\"\"},\"colorscale\":[[0.0,\"#0d0887\"],[0.1111111111111111,\"#46039f\"],[0.2222222222222222,\"#7201a8\"],[0.3333333333333333,\"#9c179e\"],[0.4444444444444444,\"#bd3786\"],[0.5555555555555556,\"#d8576b\"],[0.6666666666666666,\"#ed7953\"],[0.7777777777777778,\"#fb9f3a\"],[0.8888888888888888,\"#fdca26\"],[1.0,\"#f0f921\"]],\"type\":\"surface\"}],\"table\":[{\"cells\":{\"fill\":{\"color\":\"#EBF0F8\"},\"line\":{\"color\":\"white\"}},\"header\":{\"fill\":{\"color\":\"#C8D4E3\"},\"line\":{\"color\":\"white\"}},\"type\":\"table\"}]},\"layout\":{\"annotationdefaults\":{\"arrowcolor\":\"#2a3f5f\",\"arrowhead\":0,\"arrowwidth\":1},\"autotypenumbers\":\"strict\",\"coloraxis\":{\"colorbar\":{\"outlinewidth\":0,\"ticks\":\"\"}},\"colorscale\":{\"diverging\":[[0,\"#8e0152\"],[0.1,\"#c51b7d\"],[0.2,\"#de77ae\"],[0.3,\"#f1b6da\"],[0.4,\"#fde0ef\"],[0.5,\"#f7f7f7\"],[0.6,\"#e6f5d0\"],[0.7,\"#b8e186\"],[0.8,\"#7fbc41\"],[0.9,\"#4d9221\"],[1,\"#276419\"]],\"sequential\":[[0.0,\"#0d0887\"],[0.1111111111111111,\"#46039f\"],[0.2222222222222222,\"#7201a8\"],[0.3333333333333333,\"#9c179e\"],[0.4444444444444444,\"#bd3786\"],[0.5555555555555556,\"#d8576b\"],[0.6666666666666666,\"#ed7953\"],[0.7777777777777778,\"#fb9f3a\"],[0.8888888888888888,\"#fdca26\"],[1.0,\"#f0f921\"]],\"sequentialminus\":[[0.0,\"#0d0887\"],[0.1111111111111111,\"#46039f\"],[0.2222222222222222,\"#7201a8\"],[0.3333333333333333,\"#9c179e\"],[0.4444444444444444,\"#bd3786\"],[0.5555555555555556,\"#d8576b\"],[0.6666666666666666,\"#ed7953\"],[0.7777777777777778,\"#fb9f3a\"],[0.8888888888888888,\"#fdca26\"],[1.0,\"#f0f921\"]]},\"colorway\":[\"#636efa\",\"#EF553B\",\"#00cc96\",\"#ab63fa\",\"#FFA15A\",\"#19d3f3\",\"#FF6692\",\"#B6E880\",\"#FF97FF\",\"#FECB52\"],\"font\":{\"color\":\"#2a3f5f\"},\"geo\":{\"bgcolor\":\"white\",\"lakecolor\":\"white\",\"landcolor\":\"#E5ECF6\",\"showlakes\":true,\"showland\":true,\"subunitcolor\":\"white\"},\"hoverlabel\":{\"align\":\"left\"},\"hovermode\":\"closest\",\"mapbox\":{\"style\":\"light\"},\"paper_bgcolor\":\"white\",\"plot_bgcolor\":\"#E5ECF6\",\"polar\":{\"angularaxis\":{\"gridcolor\":\"white\",\"linecolor\":\"white\",\"ticks\":\"\"},\"bgcolor\":\"#E5ECF6\",\"radialaxis\":{\"gridcolor\":\"white\",\"linecolor\":\"white\",\"ticks\":\"\"}},\"scene\":{\"xaxis\":{\"backgroundcolor\":\"#E5ECF6\",\"gridcolor\":\"white\",\"gridwidth\":2,\"linecolor\":\"white\",\"showbackground\":true,\"ticks\":\"\",\"zerolinecolor\":\"white\"},\"yaxis\":{\"backgroundcolor\":\"#E5ECF6\",\"gridcolor\":\"white\",\"gridwidth\":2,\"linecolor\":\"white\",\"showbackground\":true,\"ticks\":\"\",\"zerolinecolor\":\"white\"},\"zaxis\":{\"backgroundcolor\":\"#E5ECF6\",\"gridcolor\":\"white\",\"gridwidth\":2,\"linecolor\":\"white\",\"showbackground\":true,\"ticks\":\"\",\"zerolinecolor\":\"white\"}},\"shapedefaults\":{\"line\":{\"color\":\"#2a3f5f\"}},\"ternary\":{\"aaxis\":{\"gridcolor\":\"white\",\"linecolor\":\"white\",\"ticks\":\"\"},\"baxis\":{\"gridcolor\":\"white\",\"linecolor\":\"white\",\"ticks\":\"\"},\"bgcolor\":\"#E5ECF6\",\"caxis\":{\"gridcolor\":\"white\",\"linecolor\":\"white\",\"ticks\":\"\"}},\"title\":{\"x\":0.05},\"xaxis\":{\"automargin\":true,\"gridcolor\":\"white\",\"linecolor\":\"white\",\"ticks\":\"\",\"title\":{\"standoff\":15},\"zerolinecolor\":\"white\",\"zerolinewidth\":2},\"yaxis\":{\"automargin\":true,\"gridcolor\":\"white\",\"linecolor\":\"white\",\"ticks\":\"\",\"title\":{\"standoff\":15},\"zerolinecolor\":\"white\",\"zerolinewidth\":2}}},\"title\":{\"text\":\"Continuous, variable value error bars\"},\"yaxis\":{\"title\":{\"text\":\"\"}}},                        {\"responsive\": true}                    ).then(function(){\n",
       "                            \n",
       "var gd = document.getElementById('3b73beb7-a6f7-4f4d-b9d3-17aeb7f35f1b');\n",
       "var x = new MutationObserver(function (mutations, observer) {{\n",
       "        var display = window.getComputedStyle(gd).display;\n",
       "        if (!display || display === 'none') {{\n",
       "            console.log([gd, 'removed!']);\n",
       "            Plotly.purge(gd);\n",
       "            observer.disconnect();\n",
       "        }}\n",
       "}});\n",
       "\n",
       "// Listen for the removal of the full notebook cells\n",
       "var notebookContainer = gd.closest('#notebook-container');\n",
       "if (notebookContainer) {{\n",
       "    x.observe(notebookContainer, {childList: true});\n",
       "}}\n",
       "\n",
       "// Listen for the clearing of the current output cell\n",
       "var outputEl = gd.closest('.output');\n",
       "if (outputEl) {{\n",
       "    x.observe(outputEl, {childList: true});\n",
       "}}\n",
       "\n",
       "                        })                };                });            </script>        </div>"
      ]
     },
     "metadata": {},
     "output_type": "display_data"
    }
   ],
   "source": [
    "fig = go.Figure([\n",
    "    go.Scatter(\n",
    "        name='Number of Cases Forcasting',\n",
    "        x = df_filter['target_week_end_date'],\n",
    "        y = df_filter['point'],\n",
    "        marker = dict(size=9),\n",
    "        line=dict(color='rgb(31, 119, 180)'),\n",
    "    ),\n",
    "    go.Scatter(\n",
    "        name='Lower 50% Prediction Interval',\n",
    "        x = df_filter['target_week_end_date'],\n",
    "        y = df_filter['quantile_0.25'],\n",
    "        mode='lines',\n",
    "        marker=dict(color=\"#444\"),\n",
    "        line=dict(width=0),\n",
    "        showlegend=False\n",
    "    ),\n",
    "    go.Scatter(\n",
    "        name = 'Upper 50% Prediction Interval',\n",
    "        x = df_filter['target_week_end_date'],\n",
    "        y = df_filter['quantile_0.75'],\n",
    "        marker=dict(color=\"#444\"),\n",
    "        line=dict(width=0),\n",
    "        mode='lines',\n",
    "        fillcolor='rgba(68, 68, 68, 0.3)',\n",
    "        fill='tonexty',\n",
    "        showlegend=False\n",
    "    ),\n",
    "        go.Scatter(\n",
    "        name='Lower 95% Prediction Interval',\n",
    "        x = df_filter['target_week_end_date'],\n",
    "        y = df_filter['quantile_0.025'],\n",
    "        mode='lines',\n",
    "        marker=dict(color=\"#444\"),\n",
    "        line=dict(width=0),\n",
    "        showlegend=False\n",
    "    ),\n",
    "        go.Scatter(\n",
    "        name='Upper 95% Prediction Interval',\n",
    "        x = df_filter['target_week_end_date'],\n",
    "        y = df_filter['quantile_0.975'],\n",
    "        marker=dict(color=\"#444\"),\n",
    "        line=dict(width=0),\n",
    "        mode='lines',\n",
    "        fillcolor='rgba(68, 68, 68, 0.3)',\n",
    "        fill='tonexty',\n",
    "        showlegend=False\n",
    "    ),\n",
    "])\n",
    "fig.update_layout(\n",
    "    yaxis_title='',\n",
    "    title='Continuous, variable value error bars',\n",
    "    hovermode=\"x\"\n",
    ")\n",
    "fig.show()"
   ]
  },
  {
   "cell_type": "code",
   "execution_count": 62,
   "metadata": {},
   "outputs": [],
   "source": [
    "df_report = pd.read_csv('United_States_COVID-19_Cases_and_Deaths_by_State_over_Time.csv')\n",
    "df_abbrev = pd.read_csv('abbr-name.csv', header=None, names = ['state', 'location'])"
   ]
  },
  {
   "cell_type": "code",
   "execution_count": 63,
   "metadata": {},
   "outputs": [],
   "source": [
    "df_report['submission_date'] = pd.to_datetime(df_report['submission_date']).dt.date\n",
    "df_report = pd.merge(df_report, df_abbrev, on = 'state', how = 'inner')"
   ]
  },
  {
   "cell_type": "code",
   "execution_count": 64,
   "metadata": {},
   "outputs": [],
   "source": [
    "df_report_filter = df_report[df_report['location'] == 'Illinois']\n",
    "df_report_filter = df_report_filter[df_report_filter['submission_date'] < pd.to_datetime('2021-11-15')]"
   ]
  },
  {
   "cell_type": "code",
   "execution_count": 66,
   "metadata": {},
   "outputs": [
    {
     "data": {
      "application/vnd.plotly.v1+json": {
       "config": {
        "plotlyServerURL": "https://plot.ly"
       },
       "data": [
        {
         "name": "Number of Cases Forcasting",
         "type": "bar",
         "x": [
          "2021-02-02",
          "2020-04-18",
          "2021-10-23",
          "2020-07-08",
          "2021-06-01",
          "2020-04-02",
          "2020-02-26",
          "2021-03-02",
          "2021-08-02",
          "2020-10-02",
          "2020-10-01",
          "2020-02-08",
          "2020-07-31",
          "2021-05-06",
          "2021-08-19",
          "2020-08-16",
          "2020-02-09",
          "2020-11-26",
          "2021-06-25",
          "2021-06-19",
          "2021-07-24",
          "2021-02-25",
          "2020-08-12",
          "2020-12-12",
          "2020-12-07",
          "2020-08-13",
          "2020-09-21",
          "2020-09-25",
          "2020-10-13",
          "2020-12-19",
          "2021-10-12",
          "2020-06-10",
          "2021-03-30",
          "2020-11-09",
          "2021-06-13",
          "2020-06-05",
          "2021-01-27",
          "2020-10-04",
          "2021-09-14",
          "2021-05-19",
          "2021-02-18",
          "2020-08-20",
          "2020-03-26",
          "2020-09-12",
          "2021-04-20",
          "2020-02-21",
          "2020-04-20",
          "2020-08-29",
          "2020-07-04",
          "2020-11-30",
          "2021-10-15",
          "2021-03-25",
          "2021-05-04",
          "2021-09-17",
          "2020-02-16",
          "2020-08-02",
          "2021-10-30",
          "2020-05-14",
          "2021-05-02",
          "2020-06-07",
          "2020-08-24",
          "2020-08-15",
          "2020-04-26",
          "2021-08-25",
          "2020-10-25",
          "2020-11-15",
          "2020-07-21",
          "2020-06-30",
          "2020-07-27",
          "2020-03-29",
          "2021-08-12",
          "2021-02-08",
          "2021-01-13",
          "2020-02-14",
          "2021-08-27",
          "2020-02-17",
          "2021-06-02",
          "2021-10-06",
          "2021-04-19",
          "2021-01-09",
          "2020-01-28",
          "2020-01-22",
          "2021-06-21",
          "2021-03-27",
          "2021-01-01",
          "2020-05-17",
          "2021-02-27",
          "2020-04-27",
          "2020-03-21",
          "2020-10-12",
          "2020-09-22",
          "2021-06-29",
          "2020-07-05",
          "2020-11-24",
          "2021-03-01",
          "2021-06-16",
          "2021-01-24",
          "2021-04-22",
          "2021-05-18",
          "2020-08-30",
          "2021-04-05",
          "2021-09-21",
          "2020-03-31",
          "2021-01-28",
          "2020-04-01",
          "2021-03-26",
          "2021-01-22",
          "2020-05-25",
          "2020-11-13",
          "2021-01-02",
          "2020-04-21",
          "2021-05-25",
          "2021-05-03",
          "2020-06-11",
          "2020-08-07",
          "2020-02-19",
          "2021-05-29",
          "2020-07-01",
          "2021-04-13",
          "2021-11-10",
          "2020-05-21",
          "2020-11-05",
          "2021-09-25",
          "2020-02-12",
          "2020-04-05",
          "2020-05-07",
          "2020-10-20",
          "2021-05-13",
          "2021-01-10",
          "2020-07-07",
          "2021-10-08",
          "2020-05-22",
          "2020-05-06",
          "2021-04-01",
          "2020-07-14",
          "2021-01-14",
          "2020-03-05",
          "2021-10-07",
          "2021-10-09",
          "2021-07-23",
          "2020-11-02",
          "2021-10-13",
          "2021-02-20",
          "2020-11-17",
          "2020-03-06",
          "2020-04-13",
          "2021-07-01",
          "2021-07-09",
          "2020-12-22",
          "2021-08-05",
          "2021-01-06",
          "2020-05-03",
          "2020-10-21",
          "2021-05-05",
          "2020-03-17",
          "2020-11-18",
          "2021-06-23",
          "2021-09-28",
          "2020-07-24",
          "2021-08-28",
          "2021-03-19",
          "2021-09-05",
          "2020-10-07",
          "2021-04-14",
          "2021-02-05",
          "2021-10-27",
          "2020-06-29",
          "2021-07-13",
          "2021-06-04",
          "2020-09-26",
          "2021-09-20",
          "2021-06-14",
          "2020-09-29",
          "2021-02-16",
          "2021-06-20",
          "2020-06-06",
          "2021-07-10",
          "2020-10-06",
          "2021-02-01",
          "2021-01-21",
          "2020-08-25",
          "2020-05-30",
          "2021-08-15",
          "2020-07-28",
          "2020-08-26",
          "2020-09-30",
          "2021-06-11",
          "2020-04-19",
          "2020-05-24",
          "2020-11-06",
          "2020-06-22",
          "2021-06-17",
          "2020-07-23",
          "2020-02-13",
          "2020-10-28",
          "2021-10-22",
          "2020-09-03",
          "2021-06-12",
          "2021-06-06",
          "2021-07-04",
          "2020-11-10",
          "2020-01-30",
          "2021-10-26",
          "2020-07-13",
          "2020-05-04",
          "2020-08-04",
          "2021-03-13",
          "2020-10-30",
          "2020-08-27",
          "2021-05-20",
          "2021-06-18",
          "2021-07-30",
          "2021-05-09",
          "2021-11-01",
          "2021-09-04",
          "2020-06-17",
          "2021-08-17",
          "2021-02-22",
          "2020-10-14",
          "2020-12-28",
          "2021-07-21",
          "2021-09-02",
          "2020-02-22",
          "2021-07-20",
          "2020-05-29",
          "2020-05-31",
          "2021-03-22",
          "2020-10-08",
          "2021-04-12",
          "2021-09-12",
          "2021-02-19",
          "2021-06-07",
          "2020-11-22",
          "2020-04-09",
          "2021-03-03",
          "2020-01-27",
          "2020-04-03",
          "2021-07-15",
          "2021-10-18",
          "2021-01-17",
          "2020-10-31",
          "2020-08-17",
          "2020-12-01",
          "2020-11-08",
          "2020-03-11",
          "2020-07-10",
          "2021-11-02",
          "2020-08-14",
          "2021-07-25",
          "2021-08-21",
          "2020-09-01",
          "2021-09-19",
          "2020-09-23",
          "2020-11-25",
          "2021-04-18",
          "2020-12-14",
          "2020-09-04",
          "2021-10-21",
          "2020-12-09",
          "2021-09-06",
          "2020-03-10",
          "2020-05-01",
          "2020-11-19",
          "2021-07-11",
          "2021-08-22",
          "2021-04-07",
          "2020-08-09",
          "2021-04-28",
          "2020-12-26",
          "2020-10-03",
          "2020-09-24",
          "2020-01-24",
          "2020-12-27",
          "2021-03-06",
          "2021-09-29",
          "2020-02-15",
          "2021-11-03",
          "2020-03-24",
          "2021-06-03",
          "2021-10-01",
          "2021-03-16",
          "2021-06-28",
          "2021-01-16",
          "2020-10-10",
          "2020-12-02",
          "2020-11-04",
          "2020-07-18",
          "2021-03-17",
          "2020-10-26",
          "2020-05-18",
          "2021-10-03",
          "2021-03-23",
          "2021-02-23",
          "2021-09-27",
          "2021-03-07",
          "2020-09-28",
          "2020-03-25",
          "2020-11-29",
          "2021-08-13",
          "2020-09-15",
          "2021-03-21",
          "2020-05-09",
          "2020-12-18",
          "2021-06-08",
          "2021-04-11",
          "2020-12-30",
          "2021-01-30",
          "2020-07-02",
          "2021-08-03",
          "2020-02-20",
          "2021-06-05",
          "2021-09-09",
          "2021-11-14",
          "2021-07-31",
          "2021-07-16",
          "2020-02-02",
          "2021-06-15",
          "2021-07-19",
          "2020-05-13",
          "2021-08-31",
          "2021-11-09",
          "2021-04-04",
          "2021-04-17",
          "2020-05-10",
          "2021-07-03",
          "2021-06-24",
          "2020-09-20",
          "2020-10-05",
          "2020-06-15",
          "2021-01-11",
          "2020-12-29",
          "2021-01-03",
          "2021-08-23",
          "2020-07-19",
          "2020-06-25",
          "2021-05-10",
          "2020-06-14",
          "2021-11-07",
          "2021-04-27",
          "2020-08-21",
          "2021-05-01",
          "2020-08-23",
          "2020-06-18",
          "2021-07-26",
          "2020-12-25",
          "2021-04-16",
          "2020-04-14",
          "2020-09-13",
          "2021-10-17",
          "2020-04-07",
          "2020-04-17",
          "2020-12-03",
          "2021-03-08",
          "2021-09-13",
          "2021-11-08",
          "2020-02-07",
          "2021-05-24",
          "2021-05-26",
          "2021-04-08",
          "2021-02-06",
          "2020-05-28",
          "2021-10-31",
          "2020-03-14",
          "2021-05-31",
          "2020-10-22",
          "2021-10-02",
          "2021-09-23",
          "2020-08-08",
          "2020-12-17",
          "2020-08-31",
          "2020-09-27",
          "2020-04-29",
          "2020-03-13",
          "2020-01-23",
          "2021-08-20",
          "2021-08-24",
          "2020-06-12",
          "2020-07-17",
          "2021-03-05",
          "2020-12-21",
          "2020-05-26",
          "2020-10-24",
          "2021-04-15",
          "2021-09-01",
          "2020-06-23",
          "2020-08-22",
          "2020-02-01",
          "2021-05-21",
          "2021-04-26",
          "2021-03-18",
          "2021-10-16",
          "2020-06-04",
          "2021-07-12",
          "2021-09-03",
          "2020-07-11",
          "2020-04-28",
          "2020-05-15",
          "2020-07-09",
          "2021-10-28",
          "2020-02-27",
          "2020-09-06",
          "2020-09-02",
          "2020-09-16",
          "2020-04-10",
          "2020-04-08",
          "2021-02-13",
          "2021-02-10",
          "2020-08-28",
          "2020-05-11",
          "2020-05-16",
          "2021-10-14",
          "2020-04-15",
          "2020-02-11",
          "2021-08-30",
          "2021-08-26",
          "2020-05-20",
          "2020-06-13",
          "2020-09-08",
          "2021-09-11",
          "2021-11-12",
          "2020-03-18",
          "2021-01-12",
          "2021-01-07",
          "2021-04-30",
          "2020-10-29",
          "2020-03-22",
          "2021-02-24",
          "2020-01-31",
          "2021-03-11",
          "2020-11-14",
          "2021-10-10",
          "2021-01-04",
          "2021-05-30",
          "2020-10-11",
          "2020-10-17",
          "2020-11-23",
          "2020-09-10",
          "2020-04-11",
          "2021-09-18",
          "2020-12-06",
          "2021-09-24",
          "2020-12-16",
          "2020-05-08",
          "2021-01-08",
          "2021-02-07",
          "2020-10-16",
          "2021-07-18",
          "2020-12-11",
          "2021-11-11",
          "2020-02-23",
          "2020-02-25",
          "2021-10-04",
          "2021-07-17",
          "2020-06-26",
          "2020-09-18",
          "2021-02-15",
          "2020-01-25",
          "2021-07-08",
          "2021-11-13",
          "2021-02-03",
          "2021-05-14",
          "2020-03-19",
          "2021-05-27",
          "2021-05-16",
          "2020-11-21",
          "2021-05-23",
          "2021-02-26",
          "2021-01-31",
          "2021-04-25",
          "2020-12-04",
          "2020-12-10",
          "2020-08-11",
          "2020-03-04",
          "2021-10-20",
          "2020-12-20",
          "2021-01-15",
          "2021-03-28",
          "2020-07-25",
          "2020-11-20",
          "2021-02-28",
          "2021-06-10",
          "2020-04-12",
          "2020-11-01",
          "2021-01-29",
          "2021-10-11",
          "2021-04-06",
          "2021-05-11",
          "2021-08-18",
          "2020-10-15",
          "2020-05-05",
          "2020-07-03",
          "2021-02-09",
          "2020-02-04",
          "2021-04-03",
          "2021-05-22",
          "2020-04-25",
          "2020-03-27",
          "2021-08-16",
          "2021-10-24",
          "2020-04-22",
          "2020-03-07",
          "2021-02-21",
          "2020-03-09",
          "2021-04-02",
          "2021-03-20",
          "2020-09-05",
          "2021-07-29",
          "2021-06-26",
          "2020-07-22",
          "2020-06-27",
          "2021-11-05",
          "2021-01-18",
          "2020-02-10",
          "2021-01-20",
          "2021-07-06",
          "2021-11-04",
          "2020-02-05",
          "2021-05-12",
          "2020-03-01",
          "2021-08-11",
          "2021-07-28",
          "2020-12-23",
          "2020-05-27",
          "2020-04-24",
          "2021-01-26",
          "2020-12-05",
          "2021-05-17",
          "2020-06-08",
          "2021-07-14",
          "2020-11-07",
          "2020-09-17",
          "2021-04-21",
          "2020-06-24",
          "2020-04-04",
          "2021-02-04",
          "2020-10-19",
          "2021-07-07",
          "2021-10-29",
          "2021-03-15",
          "2021-09-07",
          "2020-03-15",
          "2021-04-24",
          "2020-09-14",
          "2020-05-02",
          "2021-08-29",
          "2021-01-23",
          "2020-07-16",
          "2020-07-15",
          "2020-12-08",
          "2021-05-08",
          "2020-03-02",
          "2020-08-06",
          "2021-07-27",
          "2020-04-30",
          "2020-07-26",
          "2020-11-16",
          "2020-03-03",
          "2020-03-30",
          "2020-06-21",
          "2020-05-19",
          "2020-06-09",
          "2020-06-03",
          "2021-04-23",
          "2020-09-19",
          "2021-02-17",
          "2020-05-12",
          "2021-01-25",
          "2021-09-15",
          "2021-10-19",
          "2021-03-29",
          "2021-06-09",
          "2021-10-05",
          "2020-08-18",
          "2021-02-12",
          "2020-10-27",
          "2020-11-03",
          "2021-08-09",
          "2020-03-20",
          "2020-01-29",
          "2021-01-19",
          "2021-01-05",
          "2020-06-16",
          "2020-01-26",
          "2021-08-10",
          "2020-06-01",
          "2020-07-30",
          "2021-03-14",
          "2020-03-12",
          "2020-02-03",
          "2020-09-09",
          "2021-03-31",
          "2020-03-28",
          "2020-12-31",
          "2020-02-28",
          "2020-10-23",
          "2021-05-15",
          "2020-09-11",
          "2020-08-10",
          "2021-11-06",
          "2020-06-02",
          "2021-04-09",
          "2020-06-19",
          "2020-08-19",
          "2021-09-08",
          "2020-09-07",
          "2021-05-07",
          "2020-06-20",
          "2021-09-10",
          "2020-11-12",
          "2021-04-10",
          "2020-04-06",
          "2021-09-26",
          "2021-02-11",
          "2020-11-27",
          "2020-11-11",
          "2021-08-06",
          "2021-07-22",
          "2020-04-23",
          "2021-04-29",
          "2020-02-18",
          "2020-02-29",
          "2021-02-14",
          "2021-03-24",
          "2020-07-20",
          "2021-06-27",
          "2020-08-01",
          "2020-07-12",
          "2020-05-23",
          "2020-12-15",
          "2020-03-16",
          "2021-03-12",
          "2020-07-06",
          "2021-06-30",
          "2020-06-28",
          "2020-10-09",
          "2021-06-22",
          "2021-09-22",
          "2020-07-29",
          "2021-08-07",
          "2021-03-09",
          "2020-03-08",
          "2020-04-16",
          "2020-02-06",
          "2020-12-24",
          "2020-02-24",
          "2021-08-08",
          "2021-07-02",
          "2020-08-05",
          "2021-08-04",
          "2020-10-18",
          "2021-09-30",
          "2021-09-16",
          "2020-11-28",
          "2020-12-13",
          "2020-03-23",
          "2021-08-14",
          "2021-03-04",
          "2020-08-03",
          "2021-03-10",
          "2021-07-05",
          "2021-08-01",
          "2021-10-25",
          "2021-05-28"
         ],
         "y": [
          21336,
          1259,
          28414,
          7309,
          25233,
          157,
          0,
          22803,
          25930,
          8992,
          8940,
          0,
          7692,
          24483,
          26197,
          7955,
          0,
          12596,
          25637,
          25566,
          25871,
          22607,
          7881,
          15232,
          14216,
          7905,
          8693,
          8807,
          9272,
          16326,
          28041,
          6273,
          23542,
          10563,
          25481,
          5795,
          20949,
          9040,
          27008,
          24864,
          22297,
          8044,
          26,
          8527,
          23989,
          0,
          1349,
          8217,
          7224,
          12985,
          28197,
          23442,
          24410,
          27175,
          0,
          7714,
          28620,
          3928,
          24358,
          5904,
          8097,
          7937,
          1933,
          26335,
          9775,
          11162,
          7517,
          7124,
          7608,
          65,
          26075,
          21779,
          19617,
          0,
          26420,
          0,
          25241,
          27878,
          23976,
          19210,
          0,
          0,
          25592,
          23498,
          18173,
          4177,
          22710,
          1983,
          6,
          9243,
          8722,
          25667,
          7230,
          12262,
          22759,
          25531,
          20680,
          24056,
          24830,
          8228,
          23665,
          27299,
          99,
          21074,
          141,
          23472,
          20534,
          4884,
          10891,
          18217,
          1468,
          25029,
          24389,
          6363,
          7822,
          0,
          25166,
          7152,
          23826,
          28929,
          4607,
          10313,
          27469,
          0,
          274,
          3111,
          9537,
          24671,
          19293,
          7273,
          27965,
          4715,
          2974,
          23601,
          7419,
          19724,
          0,
          27924,
          27984,
          25867,
          10093,
          28089,
          22426,
          11317,
          0,
          794,
          25687,
          25755,
          16671,
          25974,
          18735,
          2618,
          9605,
          24443,
          1,
          11468,
          25608,
          27568,
          7577,
          26436,
          23304,
          26654,
          9127,
          23865,
          21603,
          28550,
          7103,
          25793,
          25282,
          8832,
          27275,
          25490,
          8881,
          22199,
          25566,
          5864,
          25763,
          9085,
          21273,
          20423,
          8126,
          5330,
          26112,
          7638,
          8163,
          8916,
          25452,
          1290,
          4856,
          10397,
          6875,
          25552,
          7560,
          0,
          9889,
          28414,
          8324,
          25469,
          25352,
          25710,
          10645,
          0,
          28517,
          7394,
          2662,
          7742,
          23188,
          9994,
          8186,
          24913,
          25566,
          25916,
          24577,
          28695,
          26634,
          6666,
          26144,
          22506,
          9320,
          17470,
          25854,
          26572,
          0,
          25845,
          5270,
          5390,
          23379,
          9159,
          23809,
          26927,
          22368,
          25372,
          12051,
          528,
          22853,
          0,
          210,
          25811,
          28268,
          20050,
          10040,
          7967,
          13131,
          10538,
          0,
          7345,
          28719,
          7932,
          25875,
          26239,
          8273,
          27241,
          8744,
          12440,
          23955,
          15455,
          8362,
          28382,
          14613,
          26674,
          0,
          2457,
          11648,
          25771,
          26255,
          23702,
          7845,
          24211,
          17224,
          9023,
          8774,
          0,
          17336,
          23002,
          27619,
          0,
          28772,
          16,
          25265,
          27714,
          23235,
          25665,
          20020,
          9221,
          13397,
          10216,
          7483,
          23255,
          9792,
          4234,
          27760,
          23391,
          22528,
          27529,
          23014,
          8858,
          19,
          12882,
          26092,
          8564,
          23357,
          3349,
          16206,
          25386,
          23793,
          17811,
          21213,
          7152,
          25940,
          0,
          25314,
          26793,
          28986,
          25920,
          25820,
          0,
          25505,
          25841,
          3792,
          26500,
          28901,
          23654,
          23945,
          3406,
          25703,
          25630,
          8686,
          9054,
          6507,
          19363,
          17596,
          18322,
          26275,
          7488,
          7014,
          24590,
          6489,
          28832,
          24174,
          8066,
          24330,
          8089,
          6718,
          25881,
          17154,
          23920,
          868,
          8541,
          28243,
          380,
          1134,
          13625,
          23020,
          26969,
          28877,
          0,
          25011,
          25057,
          23740,
          21676,
          5186,
          28620,
          0,
          25223,
          9647,
          27737,
          27398,
          7840,
          15985,
          8235,
          8845,
          2215,
          0,
          0,
          26223,
          26291,
          6441,
          7465,
          22946,
          16527,
          4923,
          9751,
          23896,
          26535,
          6911,
          8083,
          0,
          24935,
          24150,
          23287,
          28220,
          5736,
          25781,
          26614,
          7369,
          2125,
          4058,
          7329,
          28591,
          0,
          8390,
          8300,
          8599,
          596,
          462,
          22087,
          21869,
          8206,
          3459,
          4129,
          28152,
          948,
          0,
          26472,
          26401,
          4225,
          6470,
          8405,
          26886,
          28986,
          1,
          19497,
          18941,
          24291,
          9945,
          9,
          22575,
          0,
          23122,
          11088,
          28003,
          18412,
          25185,
          9230,
          9452,
          12112,
          8461,
          677,
          27208,
          14116,
          27440,
          15777,
          3241,
          19108,
          21738,
          9425,
          25832,
          15067,
          28929,
          0,
          0,
          27785,
          25826,
          7048,
          8647,
          22166,
          0,
          25748,
          28986,
          21420,
          24725,
          4,
          25101,
          24795,
          11952,
          25001,
          22675,
          21253,
          24139,
          13782,
          14845,
          7866,
          0,
          28344,
          16407,
          19873,
          23521,
          7589,
          11795,
          22735,
          25430,
          720,
          10075,
          21146,
          28022,
          23673,
          24617,
          26182,
          9373,
          2838,
          7215,
          21802,
          0,
          23635,
          24976,
          1874,
          34,
          26123,
          28414,
          1565,
          0,
          22466,
          0,
          23626,
          23329,
          8385,
          25908,
          25645,
          7540,
          7074,
          28832,
          20118,
          0,
          20285,
          25727,
          28803,
          0,
          24640,
          0,
          26048,
          25893,
          16842,
          5083,
          1795,
          20853,
          14017,
          24801,
          6102,
          25803,
          10488,
          8624,
          24018,
          6974,
          243,
          21497,
          9496,
          25733,
          28620,
          23216,
          26697,
          0,
          24114,
          8546,
          2559,
          26452,
          20645,
          7452,
          7427,
          14384,
          24546,
          0,
          7791,
          25886,
          2355,
          7590,
          11204,
          0,
          73,
          6851,
          4379,
          6196,
          5621,
          24083,
          8672,
          22224,
          3601,
          20744,
          27061,
          28292,
          23527,
          25413,
          27811,
          7993,
          22027,
          9838,
          10161,
          26023,
          5,
          0,
          20153,
          18562,
          6579,
          0,
          26034,
          5412,
          7670,
          23206,
          0,
          0,
          8433,
          23579,
          47,
          17978,
          0,
          9688,
          24770,
          8505,
          7846,
          28832,
          5525,
          23762,
          6784,
          8017,
          26769,
          8398,
          24524,
          6829,
          26845,
          10846,
          23777,
          307,
          27498,
          21985,
          12686,
          10798,
          25992,
          25860,
          1688,
          24252,
          0,
          0,
          22121,
          23408,
          7494,
          25653,
          7700,
          7388,
          4790,
          15587,
          0,
          23163,
          7236,
          25674,
          7089,
          9191,
          25600,
          27351,
          7654,
          26001,
          23039,
          0,
          1072,
          0,
          16960,
          0,
          26010,
          25696,
          7770,
          25960,
          9474,
          27665,
          27113,
          12838,
          15339,
          12,
          26102,
          22902,
          7723,
          23067,
          25717,
          25924,
          28477,
          25127
         ]
        }
       ],
       "layout": {
        "autosize": true,
        "template": {
         "data": {
          "bar": [
           {
            "error_x": {
             "color": "#2a3f5f"
            },
            "error_y": {
             "color": "#2a3f5f"
            },
            "marker": {
             "line": {
              "color": "#E5ECF6",
              "width": 0.5
             },
             "pattern": {
              "fillmode": "overlay",
              "size": 10,
              "solidity": 0.2
             }
            },
            "type": "bar"
           }
          ],
          "barpolar": [
           {
            "marker": {
             "line": {
              "color": "#E5ECF6",
              "width": 0.5
             },
             "pattern": {
              "fillmode": "overlay",
              "size": 10,
              "solidity": 0.2
             }
            },
            "type": "barpolar"
           }
          ],
          "carpet": [
           {
            "aaxis": {
             "endlinecolor": "#2a3f5f",
             "gridcolor": "white",
             "linecolor": "white",
             "minorgridcolor": "white",
             "startlinecolor": "#2a3f5f"
            },
            "baxis": {
             "endlinecolor": "#2a3f5f",
             "gridcolor": "white",
             "linecolor": "white",
             "minorgridcolor": "white",
             "startlinecolor": "#2a3f5f"
            },
            "type": "carpet"
           }
          ],
          "choropleth": [
           {
            "colorbar": {
             "outlinewidth": 0,
             "ticks": ""
            },
            "type": "choropleth"
           }
          ],
          "contour": [
           {
            "colorbar": {
             "outlinewidth": 0,
             "ticks": ""
            },
            "colorscale": [
             [
              0,
              "#0d0887"
             ],
             [
              0.1111111111111111,
              "#46039f"
             ],
             [
              0.2222222222222222,
              "#7201a8"
             ],
             [
              0.3333333333333333,
              "#9c179e"
             ],
             [
              0.4444444444444444,
              "#bd3786"
             ],
             [
              0.5555555555555556,
              "#d8576b"
             ],
             [
              0.6666666666666666,
              "#ed7953"
             ],
             [
              0.7777777777777778,
              "#fb9f3a"
             ],
             [
              0.8888888888888888,
              "#fdca26"
             ],
             [
              1,
              "#f0f921"
             ]
            ],
            "type": "contour"
           }
          ],
          "contourcarpet": [
           {
            "colorbar": {
             "outlinewidth": 0,
             "ticks": ""
            },
            "type": "contourcarpet"
           }
          ],
          "heatmap": [
           {
            "colorbar": {
             "outlinewidth": 0,
             "ticks": ""
            },
            "colorscale": [
             [
              0,
              "#0d0887"
             ],
             [
              0.1111111111111111,
              "#46039f"
             ],
             [
              0.2222222222222222,
              "#7201a8"
             ],
             [
              0.3333333333333333,
              "#9c179e"
             ],
             [
              0.4444444444444444,
              "#bd3786"
             ],
             [
              0.5555555555555556,
              "#d8576b"
             ],
             [
              0.6666666666666666,
              "#ed7953"
             ],
             [
              0.7777777777777778,
              "#fb9f3a"
             ],
             [
              0.8888888888888888,
              "#fdca26"
             ],
             [
              1,
              "#f0f921"
             ]
            ],
            "type": "heatmap"
           }
          ],
          "heatmapgl": [
           {
            "colorbar": {
             "outlinewidth": 0,
             "ticks": ""
            },
            "colorscale": [
             [
              0,
              "#0d0887"
             ],
             [
              0.1111111111111111,
              "#46039f"
             ],
             [
              0.2222222222222222,
              "#7201a8"
             ],
             [
              0.3333333333333333,
              "#9c179e"
             ],
             [
              0.4444444444444444,
              "#bd3786"
             ],
             [
              0.5555555555555556,
              "#d8576b"
             ],
             [
              0.6666666666666666,
              "#ed7953"
             ],
             [
              0.7777777777777778,
              "#fb9f3a"
             ],
             [
              0.8888888888888888,
              "#fdca26"
             ],
             [
              1,
              "#f0f921"
             ]
            ],
            "type": "heatmapgl"
           }
          ],
          "histogram": [
           {
            "marker": {
             "pattern": {
              "fillmode": "overlay",
              "size": 10,
              "solidity": 0.2
             }
            },
            "type": "histogram"
           }
          ],
          "histogram2d": [
           {
            "colorbar": {
             "outlinewidth": 0,
             "ticks": ""
            },
            "colorscale": [
             [
              0,
              "#0d0887"
             ],
             [
              0.1111111111111111,
              "#46039f"
             ],
             [
              0.2222222222222222,
              "#7201a8"
             ],
             [
              0.3333333333333333,
              "#9c179e"
             ],
             [
              0.4444444444444444,
              "#bd3786"
             ],
             [
              0.5555555555555556,
              "#d8576b"
             ],
             [
              0.6666666666666666,
              "#ed7953"
             ],
             [
              0.7777777777777778,
              "#fb9f3a"
             ],
             [
              0.8888888888888888,
              "#fdca26"
             ],
             [
              1,
              "#f0f921"
             ]
            ],
            "type": "histogram2d"
           }
          ],
          "histogram2dcontour": [
           {
            "colorbar": {
             "outlinewidth": 0,
             "ticks": ""
            },
            "colorscale": [
             [
              0,
              "#0d0887"
             ],
             [
              0.1111111111111111,
              "#46039f"
             ],
             [
              0.2222222222222222,
              "#7201a8"
             ],
             [
              0.3333333333333333,
              "#9c179e"
             ],
             [
              0.4444444444444444,
              "#bd3786"
             ],
             [
              0.5555555555555556,
              "#d8576b"
             ],
             [
              0.6666666666666666,
              "#ed7953"
             ],
             [
              0.7777777777777778,
              "#fb9f3a"
             ],
             [
              0.8888888888888888,
              "#fdca26"
             ],
             [
              1,
              "#f0f921"
             ]
            ],
            "type": "histogram2dcontour"
           }
          ],
          "mesh3d": [
           {
            "colorbar": {
             "outlinewidth": 0,
             "ticks": ""
            },
            "type": "mesh3d"
           }
          ],
          "parcoords": [
           {
            "line": {
             "colorbar": {
              "outlinewidth": 0,
              "ticks": ""
             }
            },
            "type": "parcoords"
           }
          ],
          "pie": [
           {
            "automargin": true,
            "type": "pie"
           }
          ],
          "scatter": [
           {
            "marker": {
             "colorbar": {
              "outlinewidth": 0,
              "ticks": ""
             }
            },
            "type": "scatter"
           }
          ],
          "scatter3d": [
           {
            "line": {
             "colorbar": {
              "outlinewidth": 0,
              "ticks": ""
             }
            },
            "marker": {
             "colorbar": {
              "outlinewidth": 0,
              "ticks": ""
             }
            },
            "type": "scatter3d"
           }
          ],
          "scattercarpet": [
           {
            "marker": {
             "colorbar": {
              "outlinewidth": 0,
              "ticks": ""
             }
            },
            "type": "scattercarpet"
           }
          ],
          "scattergeo": [
           {
            "marker": {
             "colorbar": {
              "outlinewidth": 0,
              "ticks": ""
             }
            },
            "type": "scattergeo"
           }
          ],
          "scattergl": [
           {
            "marker": {
             "colorbar": {
              "outlinewidth": 0,
              "ticks": ""
             }
            },
            "type": "scattergl"
           }
          ],
          "scattermapbox": [
           {
            "marker": {
             "colorbar": {
              "outlinewidth": 0,
              "ticks": ""
             }
            },
            "type": "scattermapbox"
           }
          ],
          "scatterpolar": [
           {
            "marker": {
             "colorbar": {
              "outlinewidth": 0,
              "ticks": ""
             }
            },
            "type": "scatterpolar"
           }
          ],
          "scatterpolargl": [
           {
            "marker": {
             "colorbar": {
              "outlinewidth": 0,
              "ticks": ""
             }
            },
            "type": "scatterpolargl"
           }
          ],
          "scatterternary": [
           {
            "marker": {
             "colorbar": {
              "outlinewidth": 0,
              "ticks": ""
             }
            },
            "type": "scatterternary"
           }
          ],
          "surface": [
           {
            "colorbar": {
             "outlinewidth": 0,
             "ticks": ""
            },
            "colorscale": [
             [
              0,
              "#0d0887"
             ],
             [
              0.1111111111111111,
              "#46039f"
             ],
             [
              0.2222222222222222,
              "#7201a8"
             ],
             [
              0.3333333333333333,
              "#9c179e"
             ],
             [
              0.4444444444444444,
              "#bd3786"
             ],
             [
              0.5555555555555556,
              "#d8576b"
             ],
             [
              0.6666666666666666,
              "#ed7953"
             ],
             [
              0.7777777777777778,
              "#fb9f3a"
             ],
             [
              0.8888888888888888,
              "#fdca26"
             ],
             [
              1,
              "#f0f921"
             ]
            ],
            "type": "surface"
           }
          ],
          "table": [
           {
            "cells": {
             "fill": {
              "color": "#EBF0F8"
             },
             "line": {
              "color": "white"
             }
            },
            "header": {
             "fill": {
              "color": "#C8D4E3"
             },
             "line": {
              "color": "white"
             }
            },
            "type": "table"
           }
          ]
         },
         "layout": {
          "annotationdefaults": {
           "arrowcolor": "#2a3f5f",
           "arrowhead": 0,
           "arrowwidth": 1
          },
          "autotypenumbers": "strict",
          "coloraxis": {
           "colorbar": {
            "outlinewidth": 0,
            "ticks": ""
           }
          },
          "colorscale": {
           "diverging": [
            [
             0,
             "#8e0152"
            ],
            [
             0.1,
             "#c51b7d"
            ],
            [
             0.2,
             "#de77ae"
            ],
            [
             0.3,
             "#f1b6da"
            ],
            [
             0.4,
             "#fde0ef"
            ],
            [
             0.5,
             "#f7f7f7"
            ],
            [
             0.6,
             "#e6f5d0"
            ],
            [
             0.7,
             "#b8e186"
            ],
            [
             0.8,
             "#7fbc41"
            ],
            [
             0.9,
             "#4d9221"
            ],
            [
             1,
             "#276419"
            ]
           ],
           "sequential": [
            [
             0,
             "#0d0887"
            ],
            [
             0.1111111111111111,
             "#46039f"
            ],
            [
             0.2222222222222222,
             "#7201a8"
            ],
            [
             0.3333333333333333,
             "#9c179e"
            ],
            [
             0.4444444444444444,
             "#bd3786"
            ],
            [
             0.5555555555555556,
             "#d8576b"
            ],
            [
             0.6666666666666666,
             "#ed7953"
            ],
            [
             0.7777777777777778,
             "#fb9f3a"
            ],
            [
             0.8888888888888888,
             "#fdca26"
            ],
            [
             1,
             "#f0f921"
            ]
           ],
           "sequentialminus": [
            [
             0,
             "#0d0887"
            ],
            [
             0.1111111111111111,
             "#46039f"
            ],
            [
             0.2222222222222222,
             "#7201a8"
            ],
            [
             0.3333333333333333,
             "#9c179e"
            ],
            [
             0.4444444444444444,
             "#bd3786"
            ],
            [
             0.5555555555555556,
             "#d8576b"
            ],
            [
             0.6666666666666666,
             "#ed7953"
            ],
            [
             0.7777777777777778,
             "#fb9f3a"
            ],
            [
             0.8888888888888888,
             "#fdca26"
            ],
            [
             1,
             "#f0f921"
            ]
           ]
          },
          "colorway": [
           "#636efa",
           "#EF553B",
           "#00cc96",
           "#ab63fa",
           "#FFA15A",
           "#19d3f3",
           "#FF6692",
           "#B6E880",
           "#FF97FF",
           "#FECB52"
          ],
          "font": {
           "color": "#2a3f5f"
          },
          "geo": {
           "bgcolor": "white",
           "lakecolor": "white",
           "landcolor": "#E5ECF6",
           "showlakes": true,
           "showland": true,
           "subunitcolor": "white"
          },
          "hoverlabel": {
           "align": "left"
          },
          "hovermode": "closest",
          "mapbox": {
           "style": "light"
          },
          "paper_bgcolor": "white",
          "plot_bgcolor": "#E5ECF6",
          "polar": {
           "angularaxis": {
            "gridcolor": "white",
            "linecolor": "white",
            "ticks": ""
           },
           "bgcolor": "#E5ECF6",
           "radialaxis": {
            "gridcolor": "white",
            "linecolor": "white",
            "ticks": ""
           }
          },
          "scene": {
           "xaxis": {
            "backgroundcolor": "#E5ECF6",
            "gridcolor": "white",
            "gridwidth": 2,
            "linecolor": "white",
            "showbackground": true,
            "ticks": "",
            "zerolinecolor": "white"
           },
           "yaxis": {
            "backgroundcolor": "#E5ECF6",
            "gridcolor": "white",
            "gridwidth": 2,
            "linecolor": "white",
            "showbackground": true,
            "ticks": "",
            "zerolinecolor": "white"
           },
           "zaxis": {
            "backgroundcolor": "#E5ECF6",
            "gridcolor": "white",
            "gridwidth": 2,
            "linecolor": "white",
            "showbackground": true,
            "ticks": "",
            "zerolinecolor": "white"
           }
          },
          "shapedefaults": {
           "line": {
            "color": "#2a3f5f"
           }
          },
          "ternary": {
           "aaxis": {
            "gridcolor": "white",
            "linecolor": "white",
            "ticks": ""
           },
           "baxis": {
            "gridcolor": "white",
            "linecolor": "white",
            "ticks": ""
           },
           "bgcolor": "#E5ECF6",
           "caxis": {
            "gridcolor": "white",
            "linecolor": "white",
            "ticks": ""
           }
          },
          "title": {
           "x": 0.05
          },
          "xaxis": {
           "automargin": true,
           "gridcolor": "white",
           "linecolor": "white",
           "ticks": "",
           "title": {
            "standoff": 15
           },
           "zerolinecolor": "white",
           "zerolinewidth": 2
          },
          "yaxis": {
           "automargin": true,
           "gridcolor": "white",
           "linecolor": "white",
           "ticks": "",
           "title": {
            "standoff": 15
           },
           "zerolinecolor": "white",
           "zerolinewidth": 2
          }
         }
        },
        "xaxis": {
         "autorange": true,
         "range": [
          "2020-01-21 12:00",
          "2021-11-14 12:00"
         ],
         "type": "date"
        },
        "yaxis": {
         "autorange": true,
         "range": [
          0,
          30511.57894736842
         ],
         "type": "linear"
        }
       }
      },
      "image/png": "[encoded data removed]",
      "text/html": [
       "<div>                            <div id=\"5f918aae-19c1-4762-8331-d4c1a815ed98\" class=\"plotly-graph-div\" style=\"height:525px; width:100%;\"></div>            <script type=\"text/javascript\">                require([\"plotly\"], function(Plotly) {                    window.PLOTLYENV=window.PLOTLYENV || {};                                    if (document.getElementById(\"5f918aae-19c1-4762-8331-d4c1a815ed98\")) {                    Plotly.newPlot(                        \"5f918aae-19c1-4762-8331-d4c1a815ed98\",                        [{\"name\":\"Number of Cases Forcasting\",\"type\":\"bar\",\"x\":[\"2021-02-02\",\"2020-04-18\",\"2021-10-23\",\"2020-07-08\",\"2021-06-01\",\"2020-04-02\",\"2020-02-26\",\"2021-03-02\",\"2021-08-02\",\"2020-10-02\",\"2020-10-01\",\"2020-02-08\",\"2020-07-31\",\"2021-05-06\",\"2021-08-19\",\"2020-08-16\",\"2020-02-09\",\"2020-11-26\",\"2021-06-25\",\"2021-06-19\",\"2021-07-24\",\"2021-02-25\",\"2020-08-12\",\"2020-12-12\",\"2020-12-07\",\"2020-08-13\",\"2020-09-21\",\"2020-09-25\",\"2020-10-13\",\"2020-12-19\",\"2021-10-12\",\"2020-06-10\",\"2021-03-30\",\"2020-11-09\",\"2021-06-13\",\"2020-06-05\",\"2021-01-27\",\"2020-10-04\",\"2021-09-14\",\"2021-05-19\",\"2021-02-18\",\"2020-08-20\",\"2020-03-26\",\"2020-09-12\",\"2021-04-20\",\"2020-02-21\",\"2020-04-20\",\"2020-08-29\",\"2020-07-04\",\"2020-11-30\",\"2021-10-15\",\"2021-03-25\",\"2021-05-04\",\"2021-09-17\",\"2020-02-16\",\"2020-08-02\",\"2021-10-30\",\"2020-05-14\",\"2021-05-02\",\"2020-06-07\",\"2020-08-24\",\"2020-08-15\",\"2020-04-26\",\"2021-08-25\",\"2020-10-25\",\"2020-11-15\",\"2020-07-21\",\"2020-06-30\",\"2020-07-27\",\"2020-03-29\",\"2021-08-12\",\"2021-02-08\",\"2021-01-13\",\"2020-02-14\",\"2021-08-27\",\"2020-02-17\",\"2021-06-02\",\"2021-10-06\",\"2021-04-19\",\"2021-01-09\",\"2020-01-28\",\"2020-01-22\",\"2021-06-21\",\"2021-03-27\",\"2021-01-01\",\"2020-05-17\",\"2021-02-27\",\"2020-04-27\",\"2020-03-21\",\"2020-10-12\",\"2020-09-22\",\"2021-06-29\",\"2020-07-05\",\"2020-11-24\",\"2021-03-01\",\"2021-06-16\",\"2021-01-24\",\"2021-04-22\",\"2021-05-18\",\"2020-08-30\",\"2021-04-05\",\"2021-09-21\",\"2020-03-31\",\"2021-01-28\",\"2020-04-01\",\"2021-03-26\",\"2021-01-22\",\"2020-05-25\",\"2020-11-13\",\"2021-01-02\",\"2020-04-21\",\"2021-05-25\",\"2021-05-03\",\"2020-06-11\",\"2020-08-07\",\"2020-02-19\",\"2021-05-29\",\"2020-07-01\",\"2021-04-13\",\"2021-11-10\",\"2020-05-21\",\"2020-11-05\",\"2021-09-25\",\"2020-02-12\",\"2020-04-05\",\"2020-05-07\",\"2020-10-20\",\"2021-05-13\",\"2021-01-10\",\"2020-07-07\",\"2021-10-08\",\"2020-05-22\",\"2020-05-06\",\"2021-04-01\",\"2020-07-14\",\"2021-01-14\",\"2020-03-05\",\"2021-10-07\",\"2021-10-09\",\"2021-07-23\",\"2020-11-02\",\"2021-10-13\",\"2021-02-20\",\"2020-11-17\",\"2020-03-06\",\"2020-04-13\",\"2021-07-01\",\"2021-07-09\",\"2020-12-22\",\"2021-08-05\",\"2021-01-06\",\"2020-05-03\",\"2020-10-21\",\"2021-05-05\",\"2020-03-17\",\"2020-11-18\",\"2021-06-23\",\"2021-09-28\",\"2020-07-24\",\"2021-08-28\",\"2021-03-19\",\"2021-09-05\",\"2020-10-07\",\"2021-04-14\",\"2021-02-05\",\"2021-10-27\",\"2020-06-29\",\"2021-07-13\",\"2021-06-04\",\"2020-09-26\",\"2021-09-20\",\"2021-06-14\",\"2020-09-29\",\"2021-02-16\",\"2021-06-20\",\"2020-06-06\",\"2021-07-10\",\"2020-10-06\",\"2021-02-01\",\"2021-01-21\",\"2020-08-25\",\"2020-05-30\",\"2021-08-15\",\"2020-07-28\",\"2020-08-26\",\"2020-09-30\",\"2021-06-11\",\"2020-04-19\",\"2020-05-24\",\"2020-11-06\",\"2020-06-22\",\"2021-06-17\",\"2020-07-23\",\"2020-02-13\",\"2020-10-28\",\"2021-10-22\",\"2020-09-03\",\"2021-06-12\",\"2021-06-06\",\"2021-07-04\",\"2020-11-10\",\"2020-01-30\",\"2021-10-26\",\"2020-07-13\",\"2020-05-04\",\"2020-08-04\",\"2021-03-13\",\"2020-10-30\",\"2020-08-27\",\"2021-05-20\",\"2021-06-18\",\"2021-07-30\",\"2021-05-09\",\"2021-11-01\",\"2021-09-04\",\"2020-06-17\",\"2021-08-17\",\"2021-02-22\",\"2020-10-14\",\"2020-12-28\",\"2021-07-21\",\"2021-09-02\",\"2020-02-22\",\"2021-07-20\",\"2020-05-29\",\"2020-05-31\",\"2021-03-22\",\"2020-10-08\",\"2021-04-12\",\"2021-09-12\",\"2021-02-19\",\"2021-06-07\",\"2020-11-22\",\"2020-04-09\",\"2021-03-03\",\"2020-01-27\",\"2020-04-03\",\"2021-07-15\",\"2021-10-18\",\"2021-01-17\",\"2020-10-31\",\"2020-08-17\",\"2020-12-01\",\"2020-11-08\",\"2020-03-11\",\"2020-07-10\",\"2021-11-02\",\"2020-08-14\",\"2021-07-25\",\"2021-08-21\",\"2020-09-01\",\"2021-09-19\",\"2020-09-23\",\"2020-11-25\",\"2021-04-18\",\"2020-12-14\",\"2020-09-04\",\"2021-10-21\",\"2020-12-09\",\"2021-09-06\",\"2020-03-10\",\"2020-05-01\",\"2020-11-19\",\"2021-07-11\",\"2021-08-22\",\"2021-04-07\",\"2020-08-09\",\"2021-04-28\",\"2020-12-26\",\"2020-10-03\",\"2020-09-24\",\"2020-01-24\",\"2020-12-27\",\"2021-03-06\",\"2021-09-29\",\"2020-02-15\",\"2021-11-03\",\"2020-03-24\",\"2021-06-03\",\"2021-10-01\",\"2021-03-16\",\"2021-06-28\",\"2021-01-16\",\"2020-10-10\",\"2020-12-02\",\"2020-11-04\",\"2020-07-18\",\"2021-03-17\",\"2020-10-26\",\"2020-05-18\",\"2021-10-03\",\"2021-03-23\",\"2021-02-23\",\"2021-09-27\",\"2021-03-07\",\"2020-09-28\",\"2020-03-25\",\"2020-11-29\",\"2021-08-13\",\"2020-09-15\",\"2021-03-21\",\"2020-05-09\",\"2020-12-18\",\"2021-06-08\",\"2021-04-11\",\"2020-12-30\",\"2021-01-30\",\"2020-07-02\",\"2021-08-03\",\"2020-02-20\",\"2021-06-05\",\"2021-09-09\",\"2021-11-14\",\"2021-07-31\",\"2021-07-16\",\"2020-02-02\",\"2021-06-15\",\"2021-07-19\",\"2020-05-13\",\"2021-08-31\",\"2021-11-09\",\"2021-04-04\",\"2021-04-17\",\"2020-05-10\",\"2021-07-03\",\"2021-06-24\",\"2020-09-20\",\"2020-10-05\",\"2020-06-15\",\"2021-01-11\",\"2020-12-29\",\"2021-01-03\",\"2021-08-23\",\"2020-07-19\",\"2020-06-25\",\"2021-05-10\",\"2020-06-14\",\"2021-11-07\",\"2021-04-27\",\"2020-08-21\",\"2021-05-01\",\"2020-08-23\",\"2020-06-18\",\"2021-07-26\",\"2020-12-25\",\"2021-04-16\",\"2020-04-14\",\"2020-09-13\",\"2021-10-17\",\"2020-04-07\",\"2020-04-17\",\"2020-12-03\",\"2021-03-08\",\"2021-09-13\",\"2021-11-08\",\"2020-02-07\",\"2021-05-24\",\"2021-05-26\",\"2021-04-08\",\"2021-02-06\",\"2020-05-28\",\"2021-10-31\",\"2020-03-14\",\"2021-05-31\",\"2020-10-22\",\"2021-10-02\",\"2021-09-23\",\"2020-08-08\",\"2020-12-17\",\"2020-08-31\",\"2020-09-27\",\"2020-04-29\",\"2020-03-13\",\"2020-01-23\",\"2021-08-20\",\"2021-08-24\",\"2020-06-12\",\"2020-07-17\",\"2021-03-05\",\"2020-12-21\",\"2020-05-26\",\"2020-10-24\",\"2021-04-15\",\"2021-09-01\",\"2020-06-23\",\"2020-08-22\",\"2020-02-01\",\"2021-05-21\",\"2021-04-26\",\"2021-03-18\",\"2021-10-16\",\"2020-06-04\",\"2021-07-12\",\"2021-09-03\",\"2020-07-11\",\"2020-04-28\",\"2020-05-15\",\"2020-07-09\",\"2021-10-28\",\"2020-02-27\",\"2020-09-06\",\"2020-09-02\",\"2020-09-16\",\"2020-04-10\",\"2020-04-08\",\"2021-02-13\",\"2021-02-10\",\"2020-08-28\",\"2020-05-11\",\"2020-05-16\",\"2021-10-14\",\"2020-04-15\",\"2020-02-11\",\"2021-08-30\",\"2021-08-26\",\"2020-05-20\",\"2020-06-13\",\"2020-09-08\",\"2021-09-11\",\"2021-11-12\",\"2020-03-18\",\"2021-01-12\",\"2021-01-07\",\"2021-04-30\",\"2020-10-29\",\"2020-03-22\",\"2021-02-24\",\"2020-01-31\",\"2021-03-11\",\"2020-11-14\",\"2021-10-10\",\"2021-01-04\",\"2021-05-30\",\"2020-10-11\",\"2020-10-17\",\"2020-11-23\",\"2020-09-10\",\"2020-04-11\",\"2021-09-18\",\"2020-12-06\",\"2021-09-24\",\"2020-12-16\",\"2020-05-08\",\"2021-01-08\",\"2021-02-07\",\"2020-10-16\",\"2021-07-18\",\"2020-12-11\",\"2021-11-11\",\"2020-02-23\",\"2020-02-25\",\"2021-10-04\",\"2021-07-17\",\"2020-06-26\",\"2020-09-18\",\"2021-02-15\",\"2020-01-25\",\"2021-07-08\",\"2021-11-13\",\"2021-02-03\",\"2021-05-14\",\"2020-03-19\",\"2021-05-27\",\"2021-05-16\",\"2020-11-21\",\"2021-05-23\",\"2021-02-26\",\"2021-01-31\",\"2021-04-25\",\"2020-12-04\",\"2020-12-10\",\"2020-08-11\",\"2020-03-04\",\"2021-10-20\",\"2020-12-20\",\"2021-01-15\",\"2021-03-28\",\"2020-07-25\",\"2020-11-20\",\"2021-02-28\",\"2021-06-10\",\"2020-04-12\",\"2020-11-01\",\"2021-01-29\",\"2021-10-11\",\"2021-04-06\",\"2021-05-11\",\"2021-08-18\",\"2020-10-15\",\"2020-05-05\",\"2020-07-03\",\"2021-02-09\",\"2020-02-04\",\"2021-04-03\",\"2021-05-22\",\"2020-04-25\",\"2020-03-27\",\"2021-08-16\",\"2021-10-24\",\"2020-04-22\",\"2020-03-07\",\"2021-02-21\",\"2020-03-09\",\"2021-04-02\",\"2021-03-20\",\"2020-09-05\",\"2021-07-29\",\"2021-06-26\",\"2020-07-22\",\"2020-06-27\",\"2021-11-05\",\"2021-01-18\",\"2020-02-10\",\"2021-01-20\",\"2021-07-06\",\"2021-11-04\",\"2020-02-05\",\"2021-05-12\",\"2020-03-01\",\"2021-08-11\",\"2021-07-28\",\"2020-12-23\",\"2020-05-27\",\"2020-04-24\",\"2021-01-26\",\"2020-12-05\",\"2021-05-17\",\"2020-06-08\",\"2021-07-14\",\"2020-11-07\",\"2020-09-17\",\"2021-04-21\",\"2020-06-24\",\"2020-04-04\",\"2021-02-04\",\"2020-10-19\",\"2021-07-07\",\"2021-10-29\",\"2021-03-15\",\"2021-09-07\",\"2020-03-15\",\"2021-04-24\",\"2020-09-14\",\"2020-05-02\",\"2021-08-29\",\"2021-01-23\",\"2020-07-16\",\"2020-07-15\",\"2020-12-08\",\"2021-05-08\",\"2020-03-02\",\"2020-08-06\",\"2021-07-27\",\"2020-04-30\",\"2020-07-26\",\"2020-11-16\",\"2020-03-03\",\"2020-03-30\",\"2020-06-21\",\"2020-05-19\",\"2020-06-09\",\"2020-06-03\",\"2021-04-23\",\"2020-09-19\",\"2021-02-17\",\"2020-05-12\",\"2021-01-25\",\"2021-09-15\",\"2021-10-19\",\"2021-03-29\",\"2021-06-09\",\"2021-10-05\",\"2020-08-18\",\"2021-02-12\",\"2020-10-27\",\"2020-11-03\",\"2021-08-09\",\"2020-03-20\",\"2020-01-29\",\"2021-01-19\",\"2021-01-05\",\"2020-06-16\",\"2020-01-26\",\"2021-08-10\",\"2020-06-01\",\"2020-07-30\",\"2021-03-14\",\"2020-03-12\",\"2020-02-03\",\"2020-09-09\",\"2021-03-31\",\"2020-03-28\",\"2020-12-31\",\"2020-02-28\",\"2020-10-23\",\"2021-05-15\",\"2020-09-11\",\"2020-08-10\",\"2021-11-06\",\"2020-06-02\",\"2021-04-09\",\"2020-06-19\",\"2020-08-19\",\"2021-09-08\",\"2020-09-07\",\"2021-05-07\",\"2020-06-20\",\"2021-09-10\",\"2020-11-12\",\"2021-04-10\",\"2020-04-06\",\"2021-09-26\",\"2021-02-11\",\"2020-11-27\",\"2020-11-11\",\"2021-08-06\",\"2021-07-22\",\"2020-04-23\",\"2021-04-29\",\"2020-02-18\",\"2020-02-29\",\"2021-02-14\",\"2021-03-24\",\"2020-07-20\",\"2021-06-27\",\"2020-08-01\",\"2020-07-12\",\"2020-05-23\",\"2020-12-15\",\"2020-03-16\",\"2021-03-12\",\"2020-07-06\",\"2021-06-30\",\"2020-06-28\",\"2020-10-09\",\"2021-06-22\",\"2021-09-22\",\"2020-07-29\",\"2021-08-07\",\"2021-03-09\",\"2020-03-08\",\"2020-04-16\",\"2020-02-06\",\"2020-12-24\",\"2020-02-24\",\"2021-08-08\",\"2021-07-02\",\"2020-08-05\",\"2021-08-04\",\"2020-10-18\",\"2021-09-30\",\"2021-09-16\",\"2020-11-28\",\"2020-12-13\",\"2020-03-23\",\"2021-08-14\",\"2021-03-04\",\"2020-08-03\",\"2021-03-10\",\"2021-07-05\",\"2021-08-01\",\"2021-10-25\",\"2021-05-28\"],\"y\":[21336,1259,28414,7309,25233,157,0,22803,25930,8992,8940,0,7692,24483,26197,7955,0,12596,25637,25566,25871,22607,7881,15232,14216,7905,8693,8807,9272,16326,28041,6273,23542,10563,25481,5795,20949,9040,27008,24864,22297,8044,26,8527,23989,0,1349,8217,7224,12985,28197,23442,24410,27175,0,7714,28620,3928,24358,5904,8097,7937,1933,26335,9775,11162,7517,7124,7608,65,26075,21779,19617,0,26420,0,25241,27878,23976,19210,0,0,25592,23498,18173,4177,22710,1983,6,9243,8722,25667,7230,12262,22759,25531,20680,24056,24830,8228,23665,27299,99,21074,141,23472,20534,4884,10891,18217,1468,25029,24389,6363,7822,0,25166,7152,23826,28929,4607,10313,27469,0,274,3111,9537,24671,19293,7273,27965,4715,2974,23601,7419,19724,0,27924,27984,25867,10093,28089,22426,11317,0,794,25687,25755,16671,25974,18735,2618,9605,24443,1,11468,25608,27568,7577,26436,23304,26654,9127,23865,21603,28550,7103,25793,25282,8832,27275,25490,8881,22199,25566,5864,25763,9085,21273,20423,8126,5330,26112,7638,8163,8916,25452,1290,4856,10397,6875,25552,7560,0,9889,28414,8324,25469,25352,25710,10645,0,28517,7394,2662,7742,23188,9994,8186,24913,25566,25916,24577,28695,26634,6666,26144,22506,9320,17470,25854,26572,0,25845,5270,5390,23379,9159,23809,26927,22368,25372,12051,528,22853,0,210,25811,28268,20050,10040,7967,13131,10538,0,7345,28719,7932,25875,26239,8273,27241,8744,12440,23955,15455,8362,28382,14613,26674,0,2457,11648,25771,26255,23702,7845,24211,17224,9023,8774,0,17336,23002,27619,0,28772,16,25265,27714,23235,25665,20020,9221,13397,10216,7483,23255,9792,4234,27760,23391,22528,27529,23014,8858,19,12882,26092,8564,23357,3349,16206,25386,23793,17811,21213,7152,25940,0,25314,26793,28986,25920,25820,0,25505,25841,3792,26500,28901,23654,23945,3406,25703,25630,8686,9054,6507,19363,17596,18322,26275,7488,7014,24590,6489,28832,24174,8066,24330,8089,6718,25881,17154,23920,868,8541,28243,380,1134,13625,23020,26969,28877,0,25011,25057,23740,21676,5186,28620,0,25223,9647,27737,27398,7840,15985,8235,8845,2215,0,0,26223,26291,6441,7465,22946,16527,4923,9751,23896,26535,6911,8083,0,24935,24150,23287,28220,5736,25781,26614,7369,2125,4058,7329,28591,0,8390,8300,8599,596,462,22087,21869,8206,3459,4129,28152,948,0,26472,26401,4225,6470,8405,26886,28986,1,19497,18941,24291,9945,9,22575,0,23122,11088,28003,18412,25185,9230,9452,12112,8461,677,27208,14116,27440,15777,3241,19108,21738,9425,25832,15067,28929,0,0,27785,25826,7048,8647,22166,0,25748,28986,21420,24725,4,25101,24795,11952,25001,22675,21253,24139,13782,14845,7866,0,28344,16407,19873,23521,7589,11795,22735,25430,720,10075,21146,28022,23673,24617,26182,9373,2838,7215,21802,0,23635,24976,1874,34,26123,28414,1565,0,22466,0,23626,23329,8385,25908,25645,7540,7074,28832,20118,0,20285,25727,28803,0,24640,0,26048,25893,16842,5083,1795,20853,14017,24801,6102,25803,10488,8624,24018,6974,243,21497,9496,25733,28620,23216,26697,0,24114,8546,2559,26452,20645,7452,7427,14384,24546,0,7791,25886,2355,7590,11204,0,73,6851,4379,6196,5621,24083,8672,22224,3601,20744,27061,28292,23527,25413,27811,7993,22027,9838,10161,26023,5,0,20153,18562,6579,0,26034,5412,7670,23206,0,0,8433,23579,47,17978,0,9688,24770,8505,7846,28832,5525,23762,6784,8017,26769,8398,24524,6829,26845,10846,23777,307,27498,21985,12686,10798,25992,25860,1688,24252,0,0,22121,23408,7494,25653,7700,7388,4790,15587,0,23163,7236,25674,7089,9191,25600,27351,7654,26001,23039,0,1072,0,16960,0,26010,25696,7770,25960,9474,27665,27113,12838,15339,12,26102,22902,7723,23067,25717,25924,28477,25127]}],                        {\"template\":{\"data\":{\"bar\":[{\"error_x\":{\"color\":\"#2a3f5f\"},\"error_y\":{\"color\":\"#2a3f5f\"},\"marker\":{\"line\":{\"color\":\"#E5ECF6\",\"width\":0.5},\"pattern\":{\"fillmode\":\"overlay\",\"size\":10,\"solidity\":0.2}},\"type\":\"bar\"}],\"barpolar\":[{\"marker\":{\"line\":{\"color\":\"#E5ECF6\",\"width\":0.5},\"pattern\":{\"fillmode\":\"overlay\",\"size\":10,\"solidity\":0.2}},\"type\":\"barpolar\"}],\"carpet\":[{\"aaxis\":{\"endlinecolor\":\"#2a3f5f\",\"gridcolor\":\"white\",\"linecolor\":\"white\",\"minorgridcolor\":\"white\",\"startlinecolor\":\"#2a3f5f\"},\"baxis\":{\"endlinecolor\":\"#2a3f5f\",\"gridcolor\":\"white\",\"linecolor\":\"white\",\"minorgridcolor\":\"white\",\"startlinecolor\":\"#2a3f5f\"},\"type\":\"carpet\"}],\"choropleth\":[{\"colorbar\":{\"outlinewidth\":0,\"ticks\":\"\"},\"type\":\"choropleth\"}],\"contour\":[{\"colorbar\":{\"outlinewidth\":0,\"ticks\":\"\"},\"colorscale\":[[0.0,\"#0d0887\"],[0.1111111111111111,\"#46039f\"],[0.2222222222222222,\"#7201a8\"],[0.3333333333333333,\"#9c179e\"],[0.4444444444444444,\"#bd3786\"],[0.5555555555555556,\"#d8576b\"],[0.6666666666666666,\"#ed7953\"],[0.7777777777777778,\"#fb9f3a\"],[0.8888888888888888,\"#fdca26\"],[1.0,\"#f0f921\"]],\"type\":\"contour\"}],\"contourcarpet\":[{\"colorbar\":{\"outlinewidth\":0,\"ticks\":\"\"},\"type\":\"contourcarpet\"}],\"heatmap\":[{\"colorbar\":{\"outlinewidth\":0,\"ticks\":\"\"},\"colorscale\":[[0.0,\"#0d0887\"],[0.1111111111111111,\"#46039f\"],[0.2222222222222222,\"#7201a8\"],[0.3333333333333333,\"#9c179e\"],[0.4444444444444444,\"#bd3786\"],[0.5555555555555556,\"#d8576b\"],[0.6666666666666666,\"#ed7953\"],[0.7777777777777778,\"#fb9f3a\"],[0.8888888888888888,\"#fdca26\"],[1.0,\"#f0f921\"]],\"type\":\"heatmap\"}],\"heatmapgl\":[{\"colorbar\":{\"outlinewidth\":0,\"ticks\":\"\"},\"colorscale\":[[0.0,\"#0d0887\"],[0.1111111111111111,\"#46039f\"],[0.2222222222222222,\"#7201a8\"],[0.3333333333333333,\"#9c179e\"],[0.4444444444444444,\"#bd3786\"],[0.5555555555555556,\"#d8576b\"],[0.6666666666666666,\"#ed7953\"],[0.7777777777777778,\"#fb9f3a\"],[0.8888888888888888,\"#fdca26\"],[1.0,\"#f0f921\"]],\"type\":\"heatmapgl\"}],\"histogram\":[{\"marker\":{\"pattern\":{\"fillmode\":\"overlay\",\"size\":10,\"solidity\":0.2}},\"type\":\"histogram\"}],\"histogram2d\":[{\"colorbar\":{\"outlinewidth\":0,\"ticks\":\"\"},\"colorscale\":[[0.0,\"#0d0887\"],[0.1111111111111111,\"#46039f\"],[0.2222222222222222,\"#7201a8\"],[0.3333333333333333,\"#9c179e\"],[0.4444444444444444,\"#bd3786\"],[0.5555555555555556,\"#d8576b\"],[0.6666666666666666,\"#ed7953\"],[0.7777777777777778,\"#fb9f3a\"],[0.8888888888888888,\"#fdca26\"],[1.0,\"#f0f921\"]],\"type\":\"histogram2d\"}],\"histogram2dcontour\":[{\"colorbar\":{\"outlinewidth\":0,\"ticks\":\"\"},\"colorscale\":[[0.0,\"#0d0887\"],[0.1111111111111111,\"#46039f\"],[0.2222222222222222,\"#7201a8\"],[0.3333333333333333,\"#9c179e\"],[0.4444444444444444,\"#bd3786\"],[0.5555555555555556,\"#d8576b\"],[0.6666666666666666,\"#ed7953\"],[0.7777777777777778,\"#fb9f3a\"],[0.8888888888888888,\"#fdca26\"],[1.0,\"#f0f921\"]],\"type\":\"histogram2dcontour\"}],\"mesh3d\":[{\"colorbar\":{\"outlinewidth\":0,\"ticks\":\"\"},\"type\":\"mesh3d\"}],\"parcoords\":[{\"line\":{\"colorbar\":{\"outlinewidth\":0,\"ticks\":\"\"}},\"type\":\"parcoords\"}],\"pie\":[{\"automargin\":true,\"type\":\"pie\"}],\"scatter\":[{\"marker\":{\"colorbar\":{\"outlinewidth\":0,\"ticks\":\"\"}},\"type\":\"scatter\"}],\"scatter3d\":[{\"line\":{\"colorbar\":{\"outlinewidth\":0,\"ticks\":\"\"}},\"marker\":{\"colorbar\":{\"outlinewidth\":0,\"ticks\":\"\"}},\"type\":\"scatter3d\"}],\"scattercarpet\":[{\"marker\":{\"colorbar\":{\"outlinewidth\":0,\"ticks\":\"\"}},\"type\":\"scattercarpet\"}],\"scattergeo\":[{\"marker\":{\"colorbar\":{\"outlinewidth\":0,\"ticks\":\"\"}},\"type\":\"scattergeo\"}],\"scattergl\":[{\"marker\":{\"colorbar\":{\"outlinewidth\":0,\"ticks\":\"\"}},\"type\":\"scattergl\"}],\"scattermapbox\":[{\"marker\":{\"colorbar\":{\"outlinewidth\":0,\"ticks\":\"\"}},\"type\":\"scattermapbox\"}],\"scatterpolar\":[{\"marker\":{\"colorbar\":{\"outlinewidth\":0,\"ticks\":\"\"}},\"type\":\"scatterpolar\"}],\"scatterpolargl\":[{\"marker\":{\"colorbar\":{\"outlinewidth\":0,\"ticks\":\"\"}},\"type\":\"scatterpolargl\"}],\"scatterternary\":[{\"marker\":{\"colorbar\":{\"outlinewidth\":0,\"ticks\":\"\"}},\"type\":\"scatterternary\"}],\"surface\":[{\"colorbar\":{\"outlinewidth\":0,\"ticks\":\"\"},\"colorscale\":[[0.0,\"#0d0887\"],[0.1111111111111111,\"#46039f\"],[0.2222222222222222,\"#7201a8\"],[0.3333333333333333,\"#9c179e\"],[0.4444444444444444,\"#bd3786\"],[0.5555555555555556,\"#d8576b\"],[0.6666666666666666,\"#ed7953\"],[0.7777777777777778,\"#fb9f3a\"],[0.8888888888888888,\"#fdca26\"],[1.0,\"#f0f921\"]],\"type\":\"surface\"}],\"table\":[{\"cells\":{\"fill\":{\"color\":\"#EBF0F8\"},\"line\":{\"color\":\"white\"}},\"header\":{\"fill\":{\"color\":\"#C8D4E3\"},\"line\":{\"color\":\"white\"}},\"type\":\"table\"}]},\"layout\":{\"annotationdefaults\":{\"arrowcolor\":\"#2a3f5f\",\"arrowhead\":0,\"arrowwidth\":1},\"autotypenumbers\":\"strict\",\"coloraxis\":{\"colorbar\":{\"outlinewidth\":0,\"ticks\":\"\"}},\"colorscale\":{\"diverging\":[[0,\"#8e0152\"],[0.1,\"#c51b7d\"],[0.2,\"#de77ae\"],[0.3,\"#f1b6da\"],[0.4,\"#fde0ef\"],[0.5,\"#f7f7f7\"],[0.6,\"#e6f5d0\"],[0.7,\"#b8e186\"],[0.8,\"#7fbc41\"],[0.9,\"#4d9221\"],[1,\"#276419\"]],\"sequential\":[[0.0,\"#0d0887\"],[0.1111111111111111,\"#46039f\"],[0.2222222222222222,\"#7201a8\"],[0.3333333333333333,\"#9c179e\"],[0.4444444444444444,\"#bd3786\"],[0.5555555555555556,\"#d8576b\"],[0.6666666666666666,\"#ed7953\"],[0.7777777777777778,\"#fb9f3a\"],[0.8888888888888888,\"#fdca26\"],[1.0,\"#f0f921\"]],\"sequentialminus\":[[0.0,\"#0d0887\"],[0.1111111111111111,\"#46039f\"],[0.2222222222222222,\"#7201a8\"],[0.3333333333333333,\"#9c179e\"],[0.4444444444444444,\"#bd3786\"],[0.5555555555555556,\"#d8576b\"],[0.6666666666666666,\"#ed7953\"],[0.7777777777777778,\"#fb9f3a\"],[0.8888888888888888,\"#fdca26\"],[1.0,\"#f0f921\"]]},\"colorway\":[\"#636efa\",\"#EF553B\",\"#00cc96\",\"#ab63fa\",\"#FFA15A\",\"#19d3f3\",\"#FF6692\",\"#B6E880\",\"#FF97FF\",\"#FECB52\"],\"font\":{\"color\":\"#2a3f5f\"},\"geo\":{\"bgcolor\":\"white\",\"lakecolor\":\"white\",\"landcolor\":\"#E5ECF6\",\"showlakes\":true,\"showland\":true,\"subunitcolor\":\"white\"},\"hoverlabel\":{\"align\":\"left\"},\"hovermode\":\"closest\",\"mapbox\":{\"style\":\"light\"},\"paper_bgcolor\":\"white\",\"plot_bgcolor\":\"#E5ECF6\",\"polar\":{\"angularaxis\":{\"gridcolor\":\"white\",\"linecolor\":\"white\",\"ticks\":\"\"},\"bgcolor\":\"#E5ECF6\",\"radialaxis\":{\"gridcolor\":\"white\",\"linecolor\":\"white\",\"ticks\":\"\"}},\"scene\":{\"xaxis\":{\"backgroundcolor\":\"#E5ECF6\",\"gridcolor\":\"white\",\"gridwidth\":2,\"linecolor\":\"white\",\"showbackground\":true,\"ticks\":\"\",\"zerolinecolor\":\"white\"},\"yaxis\":{\"backgroundcolor\":\"#E5ECF6\",\"gridcolor\":\"white\",\"gridwidth\":2,\"linecolor\":\"white\",\"showbackground\":true,\"ticks\":\"\",\"zerolinecolor\":\"white\"},\"zaxis\":{\"backgroundcolor\":\"#E5ECF6\",\"gridcolor\":\"white\",\"gridwidth\":2,\"linecolor\":\"white\",\"showbackground\":true,\"ticks\":\"\",\"zerolinecolor\":\"white\"}},\"shapedefaults\":{\"line\":{\"color\":\"#2a3f5f\"}},\"ternary\":{\"aaxis\":{\"gridcolor\":\"white\",\"linecolor\":\"white\",\"ticks\":\"\"},\"baxis\":{\"gridcolor\":\"white\",\"linecolor\":\"white\",\"ticks\":\"\"},\"bgcolor\":\"#E5ECF6\",\"caxis\":{\"gridcolor\":\"white\",\"linecolor\":\"white\",\"ticks\":\"\"}},\"title\":{\"x\":0.05},\"xaxis\":{\"automargin\":true,\"gridcolor\":\"white\",\"linecolor\":\"white\",\"ticks\":\"\",\"title\":{\"standoff\":15},\"zerolinecolor\":\"white\",\"zerolinewidth\":2},\"yaxis\":{\"automargin\":true,\"gridcolor\":\"white\",\"linecolor\":\"white\",\"ticks\":\"\",\"title\":{\"standoff\":15},\"zerolinecolor\":\"white\",\"zerolinewidth\":2}}}},                        {\"responsive\": true}                    ).then(function(){\n",
       "                            \n",
       "var gd = document.getElementById('5f918aae-19c1-4762-8331-d4c1a815ed98');\n",
       "var x = new MutationObserver(function (mutations, observer) {{\n",
       "        var display = window.getComputedStyle(gd).display;\n",
       "        if (!display || display === 'none') {{\n",
       "            console.log([gd, 'removed!']);\n",
       "            Plotly.purge(gd);\n",
       "            observer.disconnect();\n",
       "        }}\n",
       "}});\n",
       "\n",
       "// Listen for the removal of the full notebook cells\n",
       "var notebookContainer = gd.closest('#notebook-container');\n",
       "if (notebookContainer) {{\n",
       "    x.observe(notebookContainer, {childList: true});\n",
       "}}\n",
       "\n",
       "// Listen for the clearing of the current output cell\n",
       "var outputEl = gd.closest('.output');\n",
       "if (outputEl) {{\n",
       "    x.observe(outputEl, {childList: true});\n",
       "}}\n",
       "\n",
       "                        })                };                });            </script>        </div>"
      ]
     },
     "metadata": {},
     "output_type": "display_data"
    }
   ],
   "source": [
    "fig_1 = go.Figure([\n",
    "    go.Bar(\n",
    "        name='Number of Cases Forcasting',\n",
    "        x = df_report_filter['submission_date'],\n",
    "        y = df_report_filter['tot_death']\n",
    "    ),\n",
    "    \n",
    "])\n",
    "\n",
    "fig_1.show()"
   ]
  },
  {
   "cell_type": "markdown",
   "metadata": {},
   "source": [
    "## Dashboard Code"
   ]
  },
  {
   "cell_type": "code",
   "execution_count": 1,
   "metadata": {},
   "outputs": [],
   "source": [
    "import pandas as pd\n",
    "\n",
    "import chart_studio.plotly as py\n",
    "import plotly.offline as po\n",
    "import plotly.graph_objs as pg\n",
    "import matplotlib.pyplot as plt\n",
    "%matplotlib inline\n",
    "\n",
    "import plotly.graph_objects as go\n",
    "from plotly.subplots import make_subplots"
   ]
  },
  {
   "cell_type": "code",
   "execution_count": 2,
   "metadata": {},
   "outputs": [],
   "source": [
    "# Data processing forcasting death\n",
    "forcast_death_df = pd.read_csv('2021-11-15-all-forecasted-deaths-model-data.csv')\n",
    "forcast_death_df['forecast_date'] = pd.to_datetime(forcast_death_df['forecast_date']).dt.date\n",
    "forcast_death_df = forcast_death_df[(forcast_death_df['target'] == '1 wk ahead cum death')|\n",
    "                                    (forcast_death_df['target'] == '2 wk ahead cum death')|\n",
    "                                    (forcast_death_df['target'] == '3 wk ahead cum death')|\n",
    "                                    (forcast_death_df['target'] == '4 wk ahead cum death')]"
   ]
  },
  {
   "cell_type": "code",
   "execution_count": 4,
   "metadata": {},
   "outputs": [],
   "source": [
    "# Data Processing Report\n",
    "df_report = pd.read_csv('United_States_COVID-19_Cases_and_Deaths_by_State_over_Time.csv')\n",
    "df_abbrev = pd.read_csv('abbr-name.csv', header=None, names = ['state', 'location_name'])\n",
    "df_report['submission_date'] = pd.to_datetime(df_report['submission_date']).dt.date\n",
    "df_report = pd.merge(df_report, df_abbrev, on = 'state', how = 'inner')"
   ]
  },
  {
   "cell_type": "code",
   "execution_count": 5,
   "metadata": {},
   "outputs": [],
   "source": [
    "import dash\n",
    "from dash import dcc\n",
    "from dash import html\n",
    "from dash.dependencies import Input, Output\n",
    "import plotly.graph_objects as go\n",
    "\n",
    "app = dash.Dash(__name__)\n",
    "\n",
    "app.layout = html.Div(\n",
    "    children=[\n",
    "\n",
    "html.Div(\n",
    "    children=[\n",
    "        html.Div(children = 'Location Name', style={'fontSize': \"24px\"},className = 'menu-title'),\n",
    "        dcc.Dropdown(\n",
    "                    id = 'location_name',\n",
    "                    options = [\n",
    "                        {'label': location_name, 'value':str(location_name)} for location_name in forcast_death_df['location_name'].unique()\n",
    "                    ], # State Filter\n",
    "                    value = 'North Carolina',\n",
    "                    clearable = False,\n",
    "                    searchable = False,\n",
    "                    className = 'dropdown', style={'fontSize': \"24px\",'textAlign': 'center'},\n",
    "                ),\n",
    "            ],\n",
    "    className = 'menu',\n",
    "),\n",
    "        \n",
    "html.Div(\n",
    "    children=[\n",
    "        html.Div(children = 'Forcasting Model', style={'fontSize': \"24px\"},className = 'menu-title'),\n",
    "        dcc.Dropdown(\n",
    "                    id = 'model',\n",
    "                    options = [\n",
    "                        {'label': model, 'value':str(model)} for model in ['BPagano', 'Ensemble', 'JHU-APL', 'USC', 'Microsoft', 'JHU-CSSE', 'Karlen']\n",
    "                    ], # State Filter\n",
    "                    value = 'Ensemble',\n",
    "                    clearable = False,\n",
    "                    searchable = False,\n",
    "                    className = 'dropdown', style={'fontSize': \"24px\",'textAlign': 'center'},\n",
    "                ),\n",
    "            ],\n",
    "    className = 'menu',\n",
    "),\n",
    "        html.Div(\n",
    "            children=[\n",
    "                html.Div(\n",
    "                children = dcc.Graph(\n",
    "                    id = 'forcast_case_graph',\n",
    "                    figure = {},\n",
    "                ),\n",
    "                style={'width': '100%', 'display': 'inline-block'},\n",
    "            ),\n",
    "        ],\n",
    "        className = 'graphs',\n",
    "        ), \n",
    "    ]\n",
    ")    "
   ]
  },
  {
   "cell_type": "code",
   "execution_count": 6,
   "metadata": {},
   "outputs": [],
   "source": [
    "@app.callback(\n",
    "    Output(\"forcast_case_graph\", \"figure\"),\n",
    "    Input(\"location_name\", \"value\"), \n",
    "    Input(\"model\", \"value\"))\n",
    "\n",
    "def forcast_death_graph(location_name, model):\n",
    "    \n",
    "    # filter data   \n",
    "    df_filter_death_forcast = forcast_death_df[forcast_death_df['model'] == model]\n",
    "    df_filter_death_forcast = df_filter_death_forcast[df_filter_death_forcast['location_name'] == location_name]\n",
    "    \n",
    "    df_filter_report = df_report[df_report['location_name'] == location_name]\n",
    "    df_filter_report = df_filter_report[(df_filter_report['submission_date'] <= pd.to_datetime('2021-11-15'))]\n",
    "    df_filter_report = df_filter_report[(df_filter_report['submission_date'] > pd.to_datetime('2021-09-01'))]\n",
    "    \n",
    "    \n",
    "    # death foresting\n",
    "    fig_death = go.Figure([\n",
    "        go.Scatter(\n",
    "            name='Number of Death Forcasting',\n",
    "            x = df_filter_death_forcast['target_week_end_date'],\n",
    "            y = df_filter_death_forcast['point'],\n",
    "            marker = dict(size=5),\n",
    "            line=dict(color='rgb(250, 0, 0, 0.6)'),\n",
    "        ),\n",
    "        \n",
    "        go.Scatter(\n",
    "            name='Lower 50% Prediction Interval',\n",
    "            x = df_filter_death_forcast['target_week_end_date'],\n",
    "            y = df_filter_death_forcast['quantile_0.25'],\n",
    "            mode='lines',\n",
    "            marker=dict(color=\"#444\"),\n",
    "            line=dict(width=0),\n",
    "            showlegend=False\n",
    "        ),\n",
    "        go.Scatter(\n",
    "            name = 'Upper 50% Prediction Interval',\n",
    "            x = df_filter_death_forcast['target_week_end_date'],\n",
    "            y = df_filter_death_forcast['quantile_0.75'],\n",
    "            marker=dict(color=\"#444\"),\n",
    "            line=dict(width=0),\n",
    "            mode='lines',\n",
    "            fillcolor='rgba(68, 68, 68, 0.3)',\n",
    "            fill='tonexty',\n",
    "            showlegend=False\n",
    "        ),\n",
    "        go.Scatter(\n",
    "            name='Lower 95% Prediction Interval',\n",
    "            x = df_filter_death_forcast['target_week_end_date'],\n",
    "            y = df_filter_death_forcast['quantile_0.025'],\n",
    "            mode='lines',\n",
    "            marker=dict(color=\"#444\"),\n",
    "            line=dict(width=0),\n",
    "            showlegend=False\n",
    "        ),\n",
    "        go.Scatter(\n",
    "            name='Upper 95% Prediction Interval',\n",
    "            x = df_filter_death_forcast['target_week_end_date'],\n",
    "            y = df_filter_death_forcast['quantile_0.975'],\n",
    "            marker=dict(color=\"#444\"),\n",
    "            line=dict(width=0),\n",
    "            mode='lines',\n",
    "            fillcolor='rgba(68, 68, 68, 0.3)',\n",
    "            fill='tonexty',\n",
    "            showlegend=False\n",
    "        ),\n",
    "        go.Bar(\n",
    "            name='Number of Death Reported',\n",
    "            x = df_filter_report['submission_date'],\n",
    "            y = df_filter_report['tot_death'],\n",
    "            \n",
    "    ),\n",
    "    ])\n",
    "    \n",
    "    fig_death.update_layout(\n",
    "        yaxis_title='Number of Death',\n",
    "        title='Reported and Forcast Number of Death By State',\n",
    "        hovermode=\"x\"\n",
    "    )\n",
    "\n",
    "    return fig_death"
   ]
  },
  {
   "cell_type": "code",
   "execution_count": 7,
   "metadata": {},
   "outputs": [
    {
     "name": "stdout",
     "output_type": "stream",
     "text": [
      "Dash is running on http://127.0.0.1:8050/\n",
      "\n",
      " * Serving Flask app \"__main__\" (lazy loading)\n",
      " * Environment: production\n",
      "\u001b[31m   WARNING: This is a development server. Do not use it in a production deployment.\u001b[0m\n",
      "\u001b[2m   Use a production WSGI server instead.\u001b[0m\n",
      " * Debug mode: on\n"
     ]
    }
   ],
   "source": [
    "app.run_server(debug=True, use_reloader=False) "
   ]
  },
  {
   "cell_type": "code",
   "execution_count": null,
   "metadata": {},
   "outputs": [],
   "source": []
  }
 ],
 "metadata": {
  "kernelspec": {
   "display_name": "Python 3",
   "language": "python",
   "name": "python3"
  },
  "language_info": {
   "codemirror_mode": {
    "name": "ipython",
    "version": 3
   },
   "file_extension": ".py",
   "mimetype": "text/x-python",
   "name": "python",
   "nbconvert_exporter": "python",
   "pygments_lexer": "ipython3",
   "version": "3.7.6"
  }
 },
 "nbformat": 4,
 "nbformat_minor": 4
}
