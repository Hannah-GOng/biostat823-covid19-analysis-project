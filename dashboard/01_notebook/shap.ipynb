{
 "cells": [
  {
   "cell_type": "code",
   "execution_count": null,
   "metadata": {},
   "outputs": [
    {
     "name": "stdout",
     "output_type": "stream",
     "text": [
      "Dash is running on http://127.0.0.1:8050/\n",
      "\n",
      "Dash is running on http://127.0.0.1:8050/\n",
      "\n",
      "Dash is running on http://127.0.0.1:8050/\n",
      "\n",
      "Dash is running on http://127.0.0.1:8050/\n",
      "\n",
      " * Serving Flask app \"__main__\" (lazy loading)\n",
      " * Environment: production\n",
      "\u001b[31m   WARNING: This is a development server. Do not use it in a production deployment.\u001b[0m\n",
      "\u001b[2m   Use a production WSGI server instead.\u001b[0m\n",
      " * Debug mode: on\n"
     ]
    }
   ],
   "source": [
    "import dash as dash_jenny\n",
    "import dash_core_components as dcc_jenny\n",
    "import dash_html_components as html_jenny\n",
    "\n",
    "import flask as flask_jenny\n",
    "import glob as glob_jenny\n",
    "import os as os_jenny\n",
    "\n",
    "image_directory_jenny = '/Users/ahoo/Desktop/823_project/'\n",
    "list_of_images_jenny = [os_jenny.path.basename(x) for x in glob_jenny.glob('{}*.png'.format(image_directory_jenny))]\n",
    "static_image_route_jenny = '/static/'\n",
    "dropdown_images_jenny = {\n",
    "    \"shap_pic_base.png\": \"Dataset after Deleting all the NAs\",\n",
    "    \"shap_pic_im.png\": \"Dataset after Missing Data Imputation\",\n",
    "    \"shap_pic_imb.png\": \"Dataset after Dealing with Imbalance\",\n",
    "    \"shap_pic_db.png\": \"Dataset after Missing Data Imputation and Dealing with Imbalance\"\n",
    "}\n",
    "\n",
    "app_jenny = dash_jenny.Dash()\n",
    "\n",
    "app_jenny.layout = html_jenny.Div([\n",
    "    dcc_jenny.Dropdown(\n",
    "        id = 'image-dropdown_jenny',\n",
    "        options = [{'label': v, 'value': k} \n",
    "                   for k, v in dropdown_images_jenny.items()],\n",
    "        value = list_of_images_jenny[0],\n",
    "        style = dict(\n",
    "        width = '70%',\n",
    "        verticalAligh = 'middle')\n",
    "    ),\n",
    "    html_jenny.Img(id = 'image_jenny',\n",
    "             style = {'width': '170vh', 'height': '80vh'})\n",
    "])\n",
    "\n",
    "@app_jenny.callback(\n",
    "    dash_jenny.dependencies.Output('image_jenny', 'src'),\n",
    "    [dash_jenny.dependencies.Input('image-dropdown_jenny', 'value')])\n",
    "def update_image_src(value):\n",
    "    return static_image_route_jenny + value\n",
    "\n",
    "@app_jenny.server.route('{}<image_path>.png'.format(static_image_route_jenny))\n",
    "def serve_image(image_path):\n",
    "    image_name_jenny = '{}.png'.format(image_path)\n",
    "    if image_name_jenny not in list_of_images_jenny:\n",
    "        raise Exception('\"{}\" is excluded from the allowed static files'.format(image_path))\n",
    "    return flask_jenny.send_from_directory(image_directory_jenny, image_name_jenny)\n",
    "\n",
    "if __name__ == '__main__':\n",
    "    app_jenny.run_server(debug = True, use_reloader = False)"
   ]
  },
  {
   "cell_type": "code",
   "execution_count": null,
   "metadata": {},
   "outputs": [],
   "source": []
  }
 ],
 "metadata": {
  "kernelspec": {
   "display_name": "Python 3",
   "language": "python",
   "name": "python3"
  },
  "language_info": {
   "codemirror_mode": {
    "name": "ipython",
    "version": 3
   },
   "file_extension": ".py",
   "mimetype": "text/x-python",
   "name": "python",
   "nbconvert_exporter": "python",
   "pygments_lexer": "ipython3",
   "version": "3.8.3"
  }
 },
 "nbformat": 4,
 "nbformat_minor": 4
}
