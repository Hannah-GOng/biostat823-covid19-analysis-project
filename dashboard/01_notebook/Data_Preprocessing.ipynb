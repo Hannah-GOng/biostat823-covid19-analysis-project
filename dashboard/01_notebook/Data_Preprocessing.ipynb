{
 "cells": [
  {
   "cell_type": "code",
   "execution_count": 5,
   "metadata": {},
   "outputs": [],
   "source": [
    "from sklearn.linear_model import LogisticRegression\n",
    "from sklearn.model_selection import train_test_split\n",
    "from sklearn import preprocessing\n",
    "from sklearn import metrics\n",
    "from sklearn.metrics import confusion_matrix\n",
    "from sklearn import svm\n",
    "from sklearn.ensemble import RandomForestClassifier\n",
    "from sklearn.discriminant_analysis import LinearDiscriminantAnalysis \n",
    "from sklearn.neighbors import KNeighborsClassifier"
   ]
  },
  {
   "cell_type": "code",
   "execution_count": 6,
   "metadata": {},
   "outputs": [],
   "source": [
    "import numpy as np\n",
    "import pandas as pd\n",
    "covid_data = pd.read_csv(\"https://raw.githubusercontent.com/Hannah-GOng/biostat823-covid19-analysis-project/main/data/clinical_raw_data.csv\")"
   ]
  },
  {
   "cell_type": "markdown",
   "metadata": {},
   "source": [
    "#### Deal with BMI"
   ]
  },
  {
   "cell_type": "code",
   "execution_count": 8,
   "metadata": {},
   "outputs": [],
   "source": [
    "covid_data['invasive_vent_days'] = np.where(np.isnan(covid_data['invasive_vent_days']) , 0, covid_data['invasive_vent_days'])"
   ]
  },
  {
   "cell_type": "code",
   "execution_count": 9,
   "metadata": {},
   "outputs": [],
   "source": [
    "covid_data['BMI'] = covid_data['BMI.over35']\n",
    "covid_data.loc[(covid_data['BMI.over30'] == 0.0) & (covid_data['BMI.over35'] == 0.0),'BMI'] = 'Under 30'"
   ]
  },
  {
   "cell_type": "code",
   "execution_count": 10,
   "metadata": {},
   "outputs": [],
   "source": [
    "covid_data.loc[(covid_data['BMI.over30'] == 1.0) & (covid_data['BMI.over35'] == 0.0),'BMI'] = 'Between 30 and 35'"
   ]
  },
  {
   "cell_type": "code",
   "execution_count": 11,
   "metadata": {},
   "outputs": [],
   "source": [
    "covid_data.loc[(covid_data['BMI.over30'] == 0.0) & (covid_data['BMI.over35'] == 1.0),'BMI'] = 'Above 35'"
   ]
  },
  {
   "cell_type": "markdown",
   "metadata": {},
   "source": [
    "#### Deal with A1C"
   ]
  },
  {
   "cell_type": "code",
   "execution_count": 12,
   "metadata": {},
   "outputs": [],
   "source": [
    "covid_data['A1C'] = covid_data['A1C.under6.5']"
   ]
  },
  {
   "cell_type": "code",
   "execution_count": 13,
   "metadata": {},
   "outputs": [],
   "source": [
    "covid_data.loc[covid_data['A1C.under6.5'] == 1.0,'A1C'] = 'Under 6.5'\n",
    "covid_data.loc[covid_data['A1C.6.6to7.9'] == 1.0,'A1C'] = 'Between 6.6 and 7.9'\n",
    "covid_data.loc[covid_data['A1C.8to9.9'] == 1.0,'A1C'] = 'Between 8 and 9.9'\n",
    "covid_data.loc[covid_data['A1C.over10'] == 1.0,'A1C'] = 'Above 10'"
   ]
  },
  {
   "cell_type": "code",
   "execution_count": 15,
   "metadata": {},
   "outputs": [],
   "source": [
    "covid_df = covid_data.drop(['BMI.over30','BMI.over35','A1C.under6.5','A1C.6.6to7.9','A1C.8to9.9','A1C.over10','A1C.over6.5'],axis = 1)"
   ]
  },
  {
   "cell_type": "code",
   "execution_count": 35,
   "metadata": {},
   "outputs": [],
   "source": [
    "df1 = covid_df.drop(['A1C'], axis = 1)"
   ]
  },
  {
   "cell_type": "code",
   "execution_count": 36,
   "metadata": {},
   "outputs": [],
   "source": [
    "df1.to_csv(\"C:\\lucy\\Duke\\Biostats823\\Final Project\\covid_with_NA.csv\")"
   ]
  }
 ],
 "metadata": {
  "kernelspec": {
   "display_name": "Python 3",
   "language": "python",
   "name": "python3"
  },
  "language_info": {
   "codemirror_mode": {
    "name": "ipython",
    "version": 3
   },
   "file_extension": ".py",
   "mimetype": "text/x-python",
   "name": "python",
   "nbconvert_exporter": "python",
   "pygments_lexer": "ipython3",
   "version": "3.6.5"
  }
 },
 "nbformat": 4,
 "nbformat_minor": 2
}
