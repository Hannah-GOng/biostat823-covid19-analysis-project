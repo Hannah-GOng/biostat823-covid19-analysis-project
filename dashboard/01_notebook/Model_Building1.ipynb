{
 "cells": [
  {
   "cell_type": "code",
   "execution_count": 1,
   "metadata": {},
   "outputs": [],
   "source": [
    "from pycaret.classification import *\n",
    "import numpy as np\n",
    "import pandas as pd\n",
    "import imblearn"
   ]
  },
  {
   "cell_type": "code",
   "execution_count": 2,
   "metadata": {},
   "outputs": [],
   "source": [
    "covid_df = pd.read_csv('covid_with_NA.csv')"
   ]
  },
  {
   "cell_type": "code",
   "execution_count": 4,
   "metadata": {},
   "outputs": [],
   "source": [
    "df1 = covid_df.drop(['to_patient_id','Unnamed: 0'],axis = 1)"
   ]
  },
  {
   "cell_type": "code",
   "execution_count": 5,
   "metadata": {},
   "outputs": [],
   "source": [
    "data = df1.drop(['last.status'],axis = 1)\n",
    "data = pd.get_dummies(data)"
   ]
  },
  {
   "cell_type": "code",
   "execution_count": 6,
   "metadata": {},
   "outputs": [],
   "source": [
    "data['last.status'] = df1['last.status']"
   ]
  },
  {
   "cell_type": "markdown",
   "metadata": {},
   "source": [
    "#### Using Pycaret comparing models"
   ]
  },
  {
   "cell_type": "code",
   "execution_count": 7,
   "metadata": {},
   "outputs": [],
   "source": [
    "def comparemodel(dataset):\n",
    "    clfs = setup(\n",
    "           data = dataset, \n",
    "           target = 'last.status',\n",
    "           silent=True, \n",
    "           session_id=1,)\n",
    "    best_model = compare_models(sort = 'Accuracy')\n",
    "    best_results = pull()\n",
    "    return best_results"
   ]
  },
  {
   "cell_type": "code",
   "execution_count": 8,
   "metadata": {},
   "outputs": [],
   "source": [
    "def createmodel(dataset, model):\n",
    "    clfs = setup(\n",
    "           data = dataset, \n",
    "           target = 'last.status',\n",
    "           silent=True, \n",
    "           session_id=1,)\n",
    "    model_name = create_model(model)\n",
    "    # plotting a model\n",
    "    plot_model(model_name,'confusion_matrix')"
   ]
  },
  {
   "cell_type": "markdown",
   "metadata": {},
   "source": [
    "#### Method 1: deleting all the NAs"
   ]
  },
  {
   "cell_type": "code",
   "execution_count": 11,
   "metadata": {},
   "outputs": [],
   "source": [
    "df1_base = df1.dropna()\n",
    "base_data = df1_base.drop(['last.status'],axis = 1)\n",
    "base_data = pd.get_dummies(base_data)\n",
    "base_data['last.status'] = df1_base['last.status']"
   ]
  },
  {
   "cell_type": "markdown",
   "metadata": {},
   "source": [
    "#### Save data after deleting the NAs"
   ]
  },
  {
   "cell_type": "code",
   "execution_count": null,
   "metadata": {},
   "outputs": [],
   "source": [
    "base_data.to_csv('base_data.csv',index = False)"
   ]
  },
  {
   "cell_type": "markdown",
   "metadata": {},
   "source": [
    "#### Method 2: Oversample the minority class"
   ]
  },
  {
   "cell_type": "code",
   "execution_count": 14,
   "metadata": {},
   "outputs": [],
   "source": [
    "X_train = base_data.drop(['last.status'], axis=1)\n",
    "y_train = base_data['last.status']"
   ]
  },
  {
   "cell_type": "code",
   "execution_count": 15,
   "metadata": {},
   "outputs": [],
   "source": [
    "X_train_resampled, y_train_resampled = \\\n",
    "imblearn.over_sampling.SMOTE().fit_resample(X_train, y_train)"
   ]
  },
  {
   "cell_type": "code",
   "execution_count": 16,
   "metadata": {},
   "outputs": [],
   "source": [
    "imbalanced_data = X_train_resampled\n",
    "imbalanced_data['last.status'] = y_train_resampled"
   ]
  },
  {
   "cell_type": "markdown",
   "metadata": {},
   "source": [
    "#### Save data after oversampling the minority class"
   ]
  },
  {
   "cell_type": "code",
   "execution_count": null,
   "metadata": {},
   "outputs": [],
   "source": [
    "imbalanced_data.to_csv('imbalanced_data.csv',index = False)"
   ]
  },
  {
   "cell_type": "markdown",
   "metadata": {},
   "source": [
    "#### Compare different models"
   ]
  },
  {
   "cell_type": "code",
   "execution_count": 48,
   "metadata": {},
   "outputs": [
    {
     "data": {
      "text/html": [
       "<div>\n",
       "<style scoped>\n",
       "    .dataframe tbody tr th:only-of-type {\n",
       "        vertical-align: middle;\n",
       "    }\n",
       "\n",
       "    .dataframe tbody tr th {\n",
       "        vertical-align: top;\n",
       "    }\n",
       "\n",
       "    .dataframe thead th {\n",
       "        text-align: right;\n",
       "    }\n",
       "</style>\n",
       "<table border=\"1\" class=\"dataframe\">\n",
       "  <thead>\n",
       "    <tr style=\"text-align: right;\">\n",
       "      <th></th>\n",
       "      <th>Model</th>\n",
       "      <th>Accuracy</th>\n",
       "      <th>AUC</th>\n",
       "      <th>Recall</th>\n",
       "      <th>Prec.</th>\n",
       "      <th>F1</th>\n",
       "      <th>Kappa</th>\n",
       "      <th>MCC</th>\n",
       "      <th>TT (Sec)</th>\n",
       "    </tr>\n",
       "  </thead>\n",
       "  <tbody>\n",
       "    <tr>\n",
       "      <th>0</th>\n",
       "      <td>Ridge Classifier</td>\n",
       "      <td>0.9293</td>\n",
       "      <td>0.0000</td>\n",
       "      <td>0.9891</td>\n",
       "      <td>0.9360</td>\n",
       "      <td>0.9617</td>\n",
       "      <td>0.4859</td>\n",
       "      <td>0.5362</td>\n",
       "      <td>0.0070</td>\n",
       "    </tr>\n",
       "    <tr>\n",
       "      <th>1</th>\n",
       "      <td>K Neighbors Classifier</td>\n",
       "      <td>0.9220</td>\n",
       "      <td>0.7587</td>\n",
       "      <td>0.9918</td>\n",
       "      <td>0.9267</td>\n",
       "      <td>0.9581</td>\n",
       "      <td>0.3839</td>\n",
       "      <td>0.4529</td>\n",
       "      <td>0.0053</td>\n",
       "    </tr>\n",
       "    <tr>\n",
       "      <th>2</th>\n",
       "      <td>Logistic Regression</td>\n",
       "      <td>0.9195</td>\n",
       "      <td>0.9143</td>\n",
       "      <td>0.9756</td>\n",
       "      <td>0.9378</td>\n",
       "      <td>0.9561</td>\n",
       "      <td>0.4585</td>\n",
       "      <td>0.4895</td>\n",
       "      <td>0.0460</td>\n",
       "    </tr>\n",
       "    <tr>\n",
       "      <th>3</th>\n",
       "      <td>Light Gradient Boosting Machine</td>\n",
       "      <td>0.9171</td>\n",
       "      <td>0.9189</td>\n",
       "      <td>0.9703</td>\n",
       "      <td>0.9402</td>\n",
       "      <td>0.9547</td>\n",
       "      <td>0.4603</td>\n",
       "      <td>0.4828</td>\n",
       "      <td>0.0517</td>\n",
       "    </tr>\n",
       "    <tr>\n",
       "      <th>4</th>\n",
       "      <td>Linear Discriminant Analysis</td>\n",
       "      <td>0.9122</td>\n",
       "      <td>0.9100</td>\n",
       "      <td>0.9592</td>\n",
       "      <td>0.9444</td>\n",
       "      <td>0.9513</td>\n",
       "      <td>0.4755</td>\n",
       "      <td>0.4976</td>\n",
       "      <td>0.0087</td>\n",
       "    </tr>\n",
       "    <tr>\n",
       "      <th>5</th>\n",
       "      <td>CatBoost Classifier</td>\n",
       "      <td>0.9122</td>\n",
       "      <td>0.9234</td>\n",
       "      <td>0.9783</td>\n",
       "      <td>0.9282</td>\n",
       "      <td>0.9525</td>\n",
       "      <td>0.3741</td>\n",
       "      <td>0.4177</td>\n",
       "      <td>1.4621</td>\n",
       "    </tr>\n",
       "    <tr>\n",
       "      <th>6</th>\n",
       "      <td>Ada Boost Classifier</td>\n",
       "      <td>0.9098</td>\n",
       "      <td>0.9045</td>\n",
       "      <td>0.9621</td>\n",
       "      <td>0.9395</td>\n",
       "      <td>0.9504</td>\n",
       "      <td>0.4404</td>\n",
       "      <td>0.4609</td>\n",
       "      <td>0.1612</td>\n",
       "    </tr>\n",
       "    <tr>\n",
       "      <th>7</th>\n",
       "      <td>Gradient Boosting Classifier</td>\n",
       "      <td>0.9098</td>\n",
       "      <td>0.9196</td>\n",
       "      <td>0.9675</td>\n",
       "      <td>0.9349</td>\n",
       "      <td>0.9506</td>\n",
       "      <td>0.4153</td>\n",
       "      <td>0.4459</td>\n",
       "      <td>0.1293</td>\n",
       "    </tr>\n",
       "    <tr>\n",
       "      <th>8</th>\n",
       "      <td>Random Forest Classifier</td>\n",
       "      <td>0.9073</td>\n",
       "      <td>0.8145</td>\n",
       "      <td>0.9675</td>\n",
       "      <td>0.9327</td>\n",
       "      <td>0.9495</td>\n",
       "      <td>0.3724</td>\n",
       "      <td>0.3906</td>\n",
       "      <td>0.1127</td>\n",
       "    </tr>\n",
       "    <tr>\n",
       "      <th>9</th>\n",
       "      <td>Extreme Gradient Boosting</td>\n",
       "      <td>0.9024</td>\n",
       "      <td>0.9113</td>\n",
       "      <td>0.9621</td>\n",
       "      <td>0.9321</td>\n",
       "      <td>0.9465</td>\n",
       "      <td>0.3685</td>\n",
       "      <td>0.3900</td>\n",
       "      <td>0.0991</td>\n",
       "    </tr>\n",
       "    <tr>\n",
       "      <th>10</th>\n",
       "      <td>Quadratic Discriminant Analysis</td>\n",
       "      <td>0.9000</td>\n",
       "      <td>0.5000</td>\n",
       "      <td>1.0000</td>\n",
       "      <td>0.9000</td>\n",
       "      <td>0.9474</td>\n",
       "      <td>0.0000</td>\n",
       "      <td>0.0000</td>\n",
       "      <td>0.0075</td>\n",
       "    </tr>\n",
       "    <tr>\n",
       "      <th>11</th>\n",
       "      <td>Extra Trees Classifier</td>\n",
       "      <td>0.9000</td>\n",
       "      <td>0.8822</td>\n",
       "      <td>0.9675</td>\n",
       "      <td>0.9257</td>\n",
       "      <td>0.9457</td>\n",
       "      <td>0.2868</td>\n",
       "      <td>0.2887</td>\n",
       "      <td>0.2549</td>\n",
       "    </tr>\n",
       "    <tr>\n",
       "      <th>12</th>\n",
       "      <td>SVM - Linear Kernel</td>\n",
       "      <td>0.8951</td>\n",
       "      <td>0.0000</td>\n",
       "      <td>0.9541</td>\n",
       "      <td>0.9317</td>\n",
       "      <td>0.9418</td>\n",
       "      <td>0.3639</td>\n",
       "      <td>0.3915</td>\n",
       "      <td>0.0062</td>\n",
       "    </tr>\n",
       "    <tr>\n",
       "      <th>13</th>\n",
       "      <td>Decision Tree Classifier</td>\n",
       "      <td>0.8878</td>\n",
       "      <td>0.6640</td>\n",
       "      <td>0.9431</td>\n",
       "      <td>0.9335</td>\n",
       "      <td>0.9380</td>\n",
       "      <td>0.3311</td>\n",
       "      <td>0.3438</td>\n",
       "      <td>0.0056</td>\n",
       "    </tr>\n",
       "    <tr>\n",
       "      <th>14</th>\n",
       "      <td>Naive Bayes</td>\n",
       "      <td>0.6878</td>\n",
       "      <td>0.8823</td>\n",
       "      <td>0.6612</td>\n",
       "      <td>0.9881</td>\n",
       "      <td>0.7894</td>\n",
       "      <td>0.2620</td>\n",
       "      <td>0.3672</td>\n",
       "      <td>0.0052</td>\n",
       "    </tr>\n",
       "  </tbody>\n",
       "</table>\n",
       "</div>"
      ],
      "text/plain": [
       "                              Model  Accuracy     AUC  Recall   Prec.      F1  \\\n",
       "0                  Ridge Classifier    0.9293  0.0000  0.9891  0.9360  0.9617   \n",
       "1            K Neighbors Classifier    0.9220  0.7587  0.9918  0.9267  0.9581   \n",
       "2               Logistic Regression    0.9195  0.9143  0.9756  0.9378  0.9561   \n",
       "3   Light Gradient Boosting Machine    0.9171  0.9189  0.9703  0.9402  0.9547   \n",
       "4      Linear Discriminant Analysis    0.9122  0.9100  0.9592  0.9444  0.9513   \n",
       "5               CatBoost Classifier    0.9122  0.9234  0.9783  0.9282  0.9525   \n",
       "6              Ada Boost Classifier    0.9098  0.9045  0.9621  0.9395  0.9504   \n",
       "7      Gradient Boosting Classifier    0.9098  0.9196  0.9675  0.9349  0.9506   \n",
       "8          Random Forest Classifier    0.9073  0.8145  0.9675  0.9327  0.9495   \n",
       "9         Extreme Gradient Boosting    0.9024  0.9113  0.9621  0.9321  0.9465   \n",
       "10  Quadratic Discriminant Analysis    0.9000  0.5000  1.0000  0.9000  0.9474   \n",
       "11           Extra Trees Classifier    0.9000  0.8822  0.9675  0.9257  0.9457   \n",
       "12              SVM - Linear Kernel    0.8951  0.0000  0.9541  0.9317  0.9418   \n",
       "13         Decision Tree Classifier    0.8878  0.6640  0.9431  0.9335  0.9380   \n",
       "14                      Naive Bayes    0.6878  0.8823  0.6612  0.9881  0.7894   \n",
       "\n",
       "     Kappa     MCC  TT (Sec)  \n",
       "0   0.4859  0.5362    0.0070  \n",
       "1   0.3839  0.4529    0.0053  \n",
       "2   0.4585  0.4895    0.0460  \n",
       "3   0.4603  0.4828    0.0517  \n",
       "4   0.4755  0.4976    0.0087  \n",
       "5   0.3741  0.4177    1.4621  \n",
       "6   0.4404  0.4609    0.1612  \n",
       "7   0.4153  0.4459    0.1293  \n",
       "8   0.3724  0.3906    0.1127  \n",
       "9   0.3685  0.3900    0.0991  \n",
       "10  0.0000  0.0000    0.0075  \n",
       "11  0.2868  0.2887    0.2549  \n",
       "12  0.3639  0.3915    0.0062  \n",
       "13  0.3311  0.3438    0.0056  \n",
       "14  0.2620  0.3672    0.0052  "
      ]
     },
     "execution_count": 48,
     "metadata": {},
     "output_type": "execute_result"
    }
   ],
   "source": [
    "base_results = comparemodel(base_data)"
   ]
  },
  {
   "cell_type": "code",
   "execution_count": null,
   "metadata": {},
   "outputs": [],
   "source": [
    "imbalanced_results = comparemodel(imbalanced_data)"
   ]
  },
  {
   "cell_type": "markdown",
   "metadata": {},
   "source": [
    "#### Merge the compare_model results to a single dataset"
   ]
  },
  {
   "cell_type": "code",
   "execution_count": 49,
   "metadata": {},
   "outputs": [],
   "source": [
    "base_results_new = base_results.drop(['Recall','Prec.','Kappa','MCC','TT (Sec)'], axis = 1)"
   ]
  },
  {
   "cell_type": "code",
   "execution_count": 50,
   "metadata": {},
   "outputs": [],
   "source": [
    "imbalanced_results_new = imbalanced_results.drop(['Recall','Prec.','Kappa','MCC','TT (Sec)'],axis = 1)"
   ]
  },
  {
   "cell_type": "code",
   "execution_count": 51,
   "metadata": {},
   "outputs": [],
   "source": [
    "base_results_new['Method'] ='base'\n",
    "imbalanced_results_new['Method'] = 'Imbalanced'"
   ]
  },
  {
   "cell_type": "code",
   "execution_count": 54,
   "metadata": {},
   "outputs": [],
   "source": [
    "dataset_all = pd.concat([base_results_new, imbalanced_results_new])"
   ]
  },
  {
   "cell_type": "code",
   "execution_count": 57,
   "metadata": {},
   "outputs": [],
   "source": [
    "dataset_long = pd.melt(dataset_all, id_vars =['Model','Method'], value_vars = ['Accuracy','AUC','F1'])"
   ]
  },
  {
   "cell_type": "code",
   "execution_count": 61,
   "metadata": {},
   "outputs": [
    {
     "data": {
      "text/html": [
       "<div>\n",
       "<style scoped>\n",
       "    .dataframe tbody tr th:only-of-type {\n",
       "        vertical-align: middle;\n",
       "    }\n",
       "\n",
       "    .dataframe tbody tr th {\n",
       "        vertical-align: top;\n",
       "    }\n",
       "\n",
       "    .dataframe thead th {\n",
       "        text-align: right;\n",
       "    }\n",
       "</style>\n",
       "<table border=\"1\" class=\"dataframe\">\n",
       "  <thead>\n",
       "    <tr style=\"text-align: right;\">\n",
       "      <th></th>\n",
       "      <th>Model</th>\n",
       "      <th>Method</th>\n",
       "      <th>variable</th>\n",
       "      <th>value</th>\n",
       "    </tr>\n",
       "  </thead>\n",
       "  <tbody>\n",
       "    <tr>\n",
       "      <th>0</th>\n",
       "      <td>Ridge Classifier</td>\n",
       "      <td>base</td>\n",
       "      <td>Accuracy</td>\n",
       "      <td>0.9293</td>\n",
       "    </tr>\n",
       "    <tr>\n",
       "      <th>1</th>\n",
       "      <td>K Neighbors Classifier</td>\n",
       "      <td>base</td>\n",
       "      <td>Accuracy</td>\n",
       "      <td>0.9220</td>\n",
       "    </tr>\n",
       "    <tr>\n",
       "      <th>2</th>\n",
       "      <td>Logistic Regression</td>\n",
       "      <td>base</td>\n",
       "      <td>Accuracy</td>\n",
       "      <td>0.9195</td>\n",
       "    </tr>\n",
       "    <tr>\n",
       "      <th>3</th>\n",
       "      <td>Light Gradient Boosting Machine</td>\n",
       "      <td>base</td>\n",
       "      <td>Accuracy</td>\n",
       "      <td>0.9171</td>\n",
       "    </tr>\n",
       "    <tr>\n",
       "      <th>4</th>\n",
       "      <td>Linear Discriminant Analysis</td>\n",
       "      <td>base</td>\n",
       "      <td>Accuracy</td>\n",
       "      <td>0.9122</td>\n",
       "    </tr>\n",
       "  </tbody>\n",
       "</table>\n",
       "</div>"
      ],
      "text/plain": [
       "                             Model Method  variable   value\n",
       "0                 Ridge Classifier   base  Accuracy  0.9293\n",
       "1           K Neighbors Classifier   base  Accuracy  0.9220\n",
       "2              Logistic Regression   base  Accuracy  0.9195\n",
       "3  Light Gradient Boosting Machine   base  Accuracy  0.9171\n",
       "4     Linear Discriminant Analysis   base  Accuracy  0.9122"
      ]
     },
     "execution_count": 61,
     "metadata": {},
     "output_type": "execute_result"
    }
   ],
   "source": [
    "dataset_long.head()"
   ]
  },
  {
   "cell_type": "code",
   "execution_count": 69,
   "metadata": {},
   "outputs": [],
   "source": [
    "dataset_long.to_csv('delete_sampling_results.csv',index = False)"
   ]
  }
 ],
 "metadata": {
  "kernelspec": {
   "display_name": "Python 3",
   "language": "python",
   "name": "python3"
  },
  "language_info": {
   "codemirror_mode": {
    "name": "ipython",
    "version": 3
   },
   "file_extension": ".py",
   "mimetype": "text/x-python",
   "name": "python",
   "nbconvert_exporter": "python",
   "pygments_lexer": "ipython3",
   "version": "3.7.8"
  }
 },
 "nbformat": 4,
 "nbformat_minor": 4
}
